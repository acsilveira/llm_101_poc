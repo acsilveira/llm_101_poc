{
 "cells": [
  {
   "cell_type": "markdown",
   "id": "9839a4c1-0d37-4cc0-8f39-6efd77f093e6",
   "metadata": {},
   "source": [
    "# LLM 101.b PoC\n",
    "\n",
    "Goal: Ask a question to a LLM via API."
   ]
  },
  {
   "cell_type": "markdown",
   "id": "16775c25-dfe1-422f-ba95-c5794ec19e2f",
   "metadata": {},
   "source": [
    "# Installs"
   ]
  },
  {
   "cell_type": "code",
   "execution_count": 5,
   "id": "541d3120-3308-47db-8651-f1f660389dc2",
   "metadata": {},
   "outputs": [],
   "source": [
    "# !pip install -q --upgrade google-generativeai"
   ]
  },
  {
   "cell_type": "code",
   "execution_count": 6,
   "id": "7e402d0b-ea7a-4d52-9fa8-4a276c9e9170",
   "metadata": {
    "scrolled": true
   },
   "outputs": [],
   "source": [
    "# !pip install langchain-google-genai"
   ]
  },
  {
   "cell_type": "code",
   "execution_count": 4,
   "id": "389a16cf-6540-47a5-8733-72c8e2f9e942",
   "metadata": {},
   "outputs": [],
   "source": [
    "# !pip install python-dotenv"
   ]
  },
  {
   "cell_type": "markdown",
   "id": "be6cedcf-ae65-46a9-a718-0ff0949867ff",
   "metadata": {},
   "source": [
    "# Library"
   ]
  },
  {
   "cell_type": "code",
   "execution_count": 27,
   "id": "2d567235-b004-4e61-b623-125a78bab33d",
   "metadata": {},
   "outputs": [],
   "source": [
    "import google.generativeai as genai\n",
    "import os\n",
    "\n",
    "from dotenv import load_dotenv\n",
    "from IPython.display import display\n",
    "from IPython.display import Markdown\n",
    "import textwrap\n",
    "from langchain_google_genai import ChatGoogleGenerativeAI\n",
    "from langchain import PromptTemplate\n",
    "from langchain.chains import LLMChain\n",
    "from langchain.chains import SimpleSequentialChain"
   ]
  },
  {
   "cell_type": "code",
   "execution_count": 2,
   "id": "a79eafbb-2c27-40ce-959e-cb66cb0e1ba2",
   "metadata": {},
   "outputs": [],
   "source": [
    "def to_markdown(text):\n",
    "  text = text.replace('•', '  *')\n",
    "  return Markdown(textwrap.indent(text, '> ', predicate=lambda _: True))"
   ]
  },
  {
   "cell_type": "markdown",
   "id": "61d74b4a-8398-4800-88e3-ca91b87ce145",
   "metadata": {},
   "source": [
    "# Core"
   ]
  },
  {
   "cell_type": "markdown",
   "id": "8d44636b-5f87-4362-b924-b2208f858a99",
   "metadata": {},
   "source": [
    "## Setting API key"
   ]
  },
  {
   "cell_type": "code",
   "execution_count": 1,
   "id": "cd043100-e28d-402a-a41e-f8f5c6fbf858",
   "metadata": {},
   "outputs": [],
   "source": [
    "# Save api key in env var\n",
    "!echo -e 'GOOGLE_API_KEY=' > .env"
   ]
  },
  {
   "cell_type": "code",
   "execution_count": 4,
   "id": "96619e1f-cafc-4e21-9a68-6935da8c9728",
   "metadata": {},
   "outputs": [
    {
     "data": {
      "text/plain": [
       "True"
      ]
     },
     "execution_count": 4,
     "metadata": {},
     "output_type": "execute_result"
    }
   ],
   "source": [
    "load_dotenv()"
   ]
  },
  {
   "cell_type": "code",
   "execution_count": 5,
   "id": "98c4a043-be05-4cda-b41c-02f51db39545",
   "metadata": {},
   "outputs": [],
   "source": [
    "genai.configure(api_key=os.environ.get(\"GOOGLE_API_KEY\"))"
   ]
  },
  {
   "cell_type": "markdown",
   "id": "23a131c7-409c-4dab-89c8-b1c9f8c06a8d",
   "metadata": {},
   "source": [
    "## Using API directly"
   ]
  },
  {
   "cell_type": "code",
   "execution_count": 6,
   "id": "55e12483-7135-4270-992f-7d51294210e3",
   "metadata": {},
   "outputs": [
    {
     "data": {
      "text/plain": [
       "genai.GenerativeModel(\n",
       "    model_name='models/gemini-pro',\n",
       "    generation_config={},\n",
       "    safety_settings={},\n",
       "    tools=None,\n",
       "    system_instruction=None,\n",
       ")"
      ]
     },
     "execution_count": 6,
     "metadata": {},
     "output_type": "execute_result"
    }
   ],
   "source": [
    "model = genai.GenerativeModel(model_name = \"gemini-pro\")\n",
    "model"
   ]
  },
  {
   "cell_type": "code",
   "execution_count": 7,
   "id": "9a3e281b-48d6-4820-84ef-70ec657388eb",
   "metadata": {},
   "outputs": [],
   "source": [
    "prompt = [\n",
    "    \"What is the actresses and actors of the tv shiow The Big Bang Theory?\",\n",
    "]"
   ]
  },
  {
   "cell_type": "code",
   "execution_count": 8,
   "id": "0f0cbd34-b2ee-4002-bec7-9c9858b9deaa",
   "metadata": {},
   "outputs": [],
   "source": [
    "response = model.generate_content(prompt)"
   ]
  },
  {
   "cell_type": "code",
   "execution_count": 9,
   "id": "ee806752-1ef7-4fa8-aef9-014be4a44c97",
   "metadata": {
    "scrolled": true
   },
   "outputs": [
    {
     "data": {
      "text/markdown": [
       "> **Actresses:**\n",
       "> \n",
       "> * Kaley Cuoco - Penny\n",
       "> * Melissa Rauch - Bernadette\n",
       "> * Mayim Bialik - Amy\n",
       "> * Kunal Nayyar - Raj\n",
       "> \n",
       "> **Actors:**\n",
       "> \n",
       "> * Johnny Galecki - Leonard\n",
       "> * Jim Parsons - Sheldon\n",
       "> * Simon Helberg - Howard"
      ],
      "text/plain": [
       "<IPython.core.display.Markdown object>"
      ]
     },
     "execution_count": 9,
     "metadata": {},
     "output_type": "execute_result"
    }
   ],
   "source": [
    "to_markdown(response.text)"
   ]
  },
  {
   "cell_type": "markdown",
   "id": "0b7a73c3-5a86-4441-96e4-8edc90689e8b",
   "metadata": {},
   "source": [
    "## Using API via LangChain"
   ]
  },
  {
   "cell_type": "code",
   "execution_count": 10,
   "id": "e2828070-beff-46ab-8a4c-15a6e0b2c133",
   "metadata": {},
   "outputs": [],
   "source": [
    "langchain_llm = ChatGoogleGenerativeAI(model=\"gemini-pro\")"
   ]
  },
  {
   "cell_type": "code",
   "execution_count": 11,
   "id": "9fb76117-f7d3-4d17-a021-e7509ce5d282",
   "metadata": {},
   "outputs": [],
   "source": [
    "result = langchain_llm.invoke(\"What is the capital of Finland?\")"
   ]
  },
  {
   "cell_type": "code",
   "execution_count": 12,
   "id": "0c46c424-d7dd-458a-8bb0-b5aa67c5af02",
   "metadata": {
    "scrolled": true
   },
   "outputs": [
    {
     "data": {
      "text/markdown": [
       "> Helsinki"
      ],
      "text/plain": [
       "<IPython.core.display.Markdown object>"
      ]
     },
     "execution_count": 12,
     "metadata": {},
     "output_type": "execute_result"
    }
   ],
   "source": [
    "to_markdown(result.content)"
   ]
  },
  {
   "cell_type": "markdown",
   "id": "18caa57a-c393-40d3-b58b-24bc0348e780",
   "metadata": {},
   "source": [
    "## Chain with 2 steps"
   ]
  },
  {
   "cell_type": "code",
   "execution_count": 14,
   "id": "6492450d-b294-488c-94e8-ceb43261282c",
   "metadata": {},
   "outputs": [],
   "source": [
    "template = \"\"\"\n",
    "What is the actresses and actors of the tv shiow {tv_show}?\n",
    "\"\"\"\n",
    "\n",
    "prompt = PromptTemplate(\n",
    "    input_variables=[\"tv_show\"],\n",
    "    template=template,\n",
    ")\n",
    "     "
   ]
  },
  {
   "cell_type": "code",
   "execution_count": 18,
   "id": "9e8faa34-c5ca-486c-8a98-4aafd83a2732",
   "metadata": {},
   "outputs": [
    {
     "data": {
      "text/markdown": [
       "> **Main Cast**\n",
       "> \n",
       "> * Noah Ringer as Aang\n",
       "> * Dev Patel as Prince Zuko\n",
       "> * Nicola Peltz as Katara\n",
       "> * Jackson Rathbone as Sokka\n",
       "> * Aasif Mandvi as Uncle Iroh\n",
       "> * Shaun Toub as Iroh II\n",
       "> * Seychelle Gabriel as Princess Yue\n",
       "> * Cliff Curtis as Fire Lord Ozai\n",
       "> * Summer Bishil as Azula\n",
       "> * Keong Sim as Gyatso\n",
       "> \n",
       "> **Supporting Cast**\n",
       "> \n",
       "> * Francis Guinan as Zhao\n",
       "> * Jessica Andres as Suki\n",
       "> * Dee Bradley Baker as Appa and Momo\n",
       "> * Grey DeLisle as Azula (voice)\n",
       "> * Dante Basco as Zuko (voice)\n",
       "> * Mae Whitman as Katara (voice)\n",
       "> * Jack DeSena as Sokka (voice)\n",
       "> * Mark Hamill as Fire Lord Ozai (voice)\n",
       "> * Mako Iwamatsu as Iroh (voice)"
      ],
      "text/plain": [
       "<IPython.core.display.Markdown object>"
      ]
     },
     "execution_count": 18,
     "metadata": {},
     "output_type": "execute_result"
    }
   ],
   "source": [
    "result = langchain_llm.invoke(prompt.format(tv_show=\"The Last Airbender\"))\n",
    "to_markdown(result.content)"
   ]
  },
  {
   "cell_type": "code",
   "execution_count": 20,
   "id": "0c1d360e-55e4-442d-bfaf-83f09589cdda",
   "metadata": {},
   "outputs": [],
   "source": [
    "chain = LLMChain(llm=langchain_llm, prompt=prompt)"
   ]
  },
  {
   "cell_type": "code",
   "execution_count": 24,
   "id": "674a4a0b-0130-4782-84e9-71480b2cdd54",
   "metadata": {
    "scrolled": true
   },
   "outputs": [
    {
     "data": {
      "text/markdown": [
       "> **Main Cast:**\n",
       "> \n",
       "> * Noah Ringer as Aang\n",
       "> * Dev Patel as Zuko\n",
       "> * Nicola Peltz as Katara\n",
       "> * Jackson Rathbone as Sokka\n",
       "> * Shaun Toub as Iroh\n",
       "> \n",
       "> **Supporting Cast:**\n",
       "> \n",
       "> * Cliff Curtis as Fire Lord Ozai\n",
       "> * Aasif Mandvi as Zhao\n",
       "> * Summer Bishil as Azula\n",
       "> * Francis Guinan as Gyatso\n",
       "> * Seychelle Gabriel as Yue\n",
       "> * Jessica Andres as Suki\n",
       "> * Randall Duk Kim as Jeong Jeong\n",
       "> * Keong Sim as Bumi\n",
       "> * Shaun Sipos as Haru\n",
       "> * Tamlyn Tomita as Ursa"
      ],
      "text/plain": [
       "<IPython.core.display.Markdown object>"
      ]
     },
     "execution_count": 24,
     "metadata": {},
     "output_type": "execute_result"
    }
   ],
   "source": [
    "# Run the chain only specifying the input variable.\n",
    "result = chain.run(\"The Last Airbender\")\n",
    "to_markdown(result)"
   ]
  },
  {
   "cell_type": "code",
   "execution_count": 30,
   "id": "7ef839d1-6ebc-44fd-ac86-6a3ad21e146b",
   "metadata": {},
   "outputs": [],
   "source": [
    "# Define second prompt\n",
    "prompt2 = PromptTemplate(\n",
    "    input_variables=[\"cast\"],\n",
    "    template=\"Tell me a fun fact of one of these actresses and actors: {cast}\",\n",
    ")\n",
    "chain2 = LLMChain(llm=langchain_llm, prompt=prompt2)"
   ]
  },
  {
   "cell_type": "code",
   "execution_count": 31,
   "id": "74f6f243-ae18-457f-88cb-d204fda3d239",
   "metadata": {},
   "outputs": [],
   "source": [
    "overall_chain = SimpleSequentialChain(chains=[chain, chain2], verbose=True)\n"
   ]
  },
  {
   "cell_type": "code",
   "execution_count": 33,
   "id": "390bee63-c60f-4892-9b06-6b00d1671cb8",
   "metadata": {},
   "outputs": [
    {
     "name": "stdout",
     "output_type": "stream",
     "text": [
      "\n",
      "\n",
      "\u001b[1m> Entering new SimpleSequentialChain chain...\u001b[0m\n",
      "\u001b[36;1m\u001b[1;3m**Main Cast:**\n",
      "\n",
      "* Phoebe Dynevor as Daphne Bridgerton\n",
      "* Regé-Jean Page as Simon Basset, Duke of Hastings\n",
      "* Jonathan Bailey as Anthony Bridgerton, Viscount Bridgerton\n",
      "* Nicola Coughlan as Penelope Featherington\n",
      "* Claudia Jessie as Eloise Bridgerton\n",
      "* Luke Thompson as Benedict Bridgerton\n",
      "* Luke Newton as Colin Bridgerton\n",
      "* Ruth Gemmell as Violet Bridgerton\n",
      "* Adjoa Andoh as Lady Danbury\n",
      "* Golda Rosheuvel as Queen Charlotte\n",
      "* Polly Walker as Lady Portia Featherington\n",
      "* Bessie Carter as Prudence Featherington\n",
      "* Harriet Cains as Philipa Featherington\n",
      "* Ben Miller as Archibald Featherington\n",
      "\n",
      "**Recurring Cast:**\n",
      "\n",
      "* Sabrina Bartlett as Siena Rosso\n",
      "* Martins Imhangbe as Will Mondrich\n",
      "* Ruby Stokes as Francesca Bridgerton\n",
      "* Will Tilston as Gregory Bridgerton\n",
      "* Florence Hunt as Hyacinth Bridgerton\n",
      "* Jason Barnett as Jack\n",
      "* Patricia Hodge as Lady Sheffield\n",
      "* Simon Ludders as Lord Sheffield\n",
      "* Hugo Nanette as Lord Fife\n",
      "* Jessica Madsen as Cressida Cowper\n",
      "* Claudia Jessie as Eloise Bridgerton\n",
      "* Molly McGlynn as Rose\n",
      "* Jamie Beamish as Nigel Berbrooke\n",
      "* Katherine Kingsley as Lady Cowper\n",
      "* Emma Naomi as Alice\n",
      "* Rupert Evans as Edmund Bridgerton (in flashbacks)\u001b[0m\n",
      "\u001b[33;1m\u001b[1;3m**Luke Newton (Colin Bridgerton)**\n",
      "\n",
      "Fun fact: Luke Newton was a talented rugby player before pursuing acting. He played for the Leicester Tigers Academy and was even scouted to play for England's under-18 team.\u001b[0m\n",
      "\n",
      "\u001b[1m> Finished chain.\u001b[0m\n",
      "**Luke Newton (Colin Bridgerton)**\n",
      "\n",
      "Fun fact: Luke Newton was a talented rugby player before pursuing acting. He played for the Leicester Tigers Academy and was even scouted to play for England's under-18 team.\n"
     ]
    }
   ],
   "source": [
    "# Run the chain specifying only the input variable for the first chain.\n",
    "explanation = overall_chain.run(\"Bridgerton\")\n",
    "print(explanation)"
   ]
  },
  {
   "cell_type": "markdown",
   "id": "3fcc112b-4d5d-4368-95d8-c0ad5e97606f",
   "metadata": {},
   "source": [
    "---\n",
    "# End."
   ]
  }
 ],
 "metadata": {
  "kernelspec": {
   "display_name": "Python 3 (ipykernel)",
   "language": "python",
   "name": "python3"
  },
  "language_info": {
   "codemirror_mode": {
    "name": "ipython",
    "version": 3
   },
   "file_extension": ".py",
   "mimetype": "text/x-python",
   "name": "python",
   "nbconvert_exporter": "python",
   "pygments_lexer": "ipython3",
   "version": "3.11.8"
  }
 },
 "nbformat": 4,
 "nbformat_minor": 5
}
