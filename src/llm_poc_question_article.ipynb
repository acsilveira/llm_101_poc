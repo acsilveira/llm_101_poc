{
 "cells": [
  {
   "cell_type": "markdown",
   "id": "9839a4c1-0d37-4cc0-8f39-6efd77f093e6",
   "metadata": {},
   "source": [
    "# LLM 101 PoC\n",
    "\n",
    "Goal: Ask a question to a LLM via API."
   ]
  },
  {
   "cell_type": "markdown",
   "id": "16775c25-dfe1-422f-ba95-c5794ec19e2f",
   "metadata": {},
   "source": [
    "# Installs"
   ]
  },
  {
   "cell_type": "code",
   "execution_count": 2,
   "id": "541d3120-3308-47db-8651-f1f660389dc2",
   "metadata": {},
   "outputs": [],
   "source": [
    "# !pip install -q --upgrade google-generativeai"
   ]
  },
  {
   "cell_type": "code",
   "execution_count": 3,
   "id": "7e402d0b-ea7a-4d52-9fa8-4a276c9e9170",
   "metadata": {
    "scrolled": true
   },
   "outputs": [],
   "source": [
    "# !pip install langchain-google-genai"
   ]
  },
  {
   "cell_type": "code",
   "execution_count": 4,
   "id": "389a16cf-6540-47a5-8733-72c8e2f9e942",
   "metadata": {},
   "outputs": [],
   "source": [
    "# !pip install python-dotenv"
   ]
  },
  {
   "cell_type": "code",
   "execution_count": 5,
   "id": "66f3185f-8b0a-4fe6-b1b3-7159b31a719e",
   "metadata": {},
   "outputs": [],
   "source": [
    "# !pip install langchain_pinecone"
   ]
  },
  {
   "cell_type": "markdown",
   "id": "be6cedcf-ae65-46a9-a718-0ff0949867ff",
   "metadata": {},
   "source": [
    "# Library"
   ]
  },
  {
   "cell_type": "code",
   "execution_count": 1,
   "id": "2d567235-b004-4e61-b623-125a78bab33d",
   "metadata": {},
   "outputs": [],
   "source": [
    "import google.generativeai as genai\n",
    "import os\n",
    "\n",
    "from dotenv import load_dotenv\n",
    "from IPython.display import display\n",
    "from IPython.display import Markdown\n",
    "import textwrap\n",
    "from langchain_google_genai import ChatGoogleGenerativeAI\n",
    "from langchain import PromptTemplate\n",
    "from langchain.chains import LLMChain\n",
    "from langchain.chains import SimpleSequentialChain\n",
    "import requests\n",
    "from bs4 import BeautifulSoup\n",
    "import re\n",
    "from langchain.text_splitter import RecursiveCharacterTextSplitter\n",
    "from langchain_google_genai import GoogleGenerativeAIEmbeddings\n",
    "from langchain_pinecone import PineconeVectorStore\n",
    "from pinecone import Pinecone, ServerlessSpec\n",
    "from langchain.chains.question_answering import load_qa_chain\n",
    "from pprint import pprint"
   ]
  },
  {
   "cell_type": "code",
   "execution_count": 2,
   "id": "a79eafbb-2c27-40ce-959e-cb66cb0e1ba2",
   "metadata": {},
   "outputs": [],
   "source": [
    "def to_markdown(text):\n",
    "  text = text.replace('•', '  *')\n",
    "  return Markdown(textwrap.indent(text, '> ', predicate=lambda _: True))\n",
    "\n",
    "def get_text_from_web_article(url):\n",
    "    try:\n",
    "        response = requests.get(url)\n",
    "        # Check if request was successful\n",
    "        if response.status_code == 200:\n",
    "            soup = BeautifulSoup(response.content, 'html.parser')\n",
    "            text = soup.get_text()\n",
    "            parsed_text = text.replace('\\n', ' ')\n",
    "            return parsed_text\n",
    "        else:\n",
    "            print(\"Failed to fetch content from URL:\", url)\n",
    "            return None\n",
    "    except Exception as e:\n",
    "        print(\"An error occurred:\", e)\n",
    "        return None"
   ]
  },
  {
   "cell_type": "markdown",
   "id": "d5b6abc5-5c1f-48bd-b8fd-c90028ca66ce",
   "metadata": {},
   "source": [
    "# Parameters"
   ]
  },
  {
   "cell_type": "code",
   "execution_count": 3,
   "id": "819781bc-ea9b-48d2-b30e-eac9c2838b13",
   "metadata": {},
   "outputs": [],
   "source": [
    "par__article_url = \"https://staffeng.com/guides/staff-archetypes/\"\n",
    "# par__article_url = \"https://huyenchip.com/2023/01/24/what-we-look-for-in-a-candidate.html\"\n",
    "# par__article_url = \"https://www.self.com/story/things-i-wish-id-known-before-i-started-crossfit\""
   ]
  },
  {
   "cell_type": "markdown",
   "id": "e7e29b4f-cb94-4059-a553-2ab782e75a8d",
   "metadata": {},
   "source": [
    "# Authentication"
   ]
  },
  {
   "cell_type": "markdown",
   "id": "0e821f1d-9f66-41d2-a4b3-92ba9e62c0c1",
   "metadata": {},
   "source": [
    "## Setting API key"
   ]
  },
  {
   "cell_type": "code",
   "execution_count": 4,
   "id": "97cfff3b-27f7-49d3-8c9d-fe702d974c2c",
   "metadata": {},
   "outputs": [],
   "source": [
    "# Save api key in env var\n",
    "!echo -e 'GOOGLE_API_KEY=""\\n PINECONE_API_KEY=""' > .env"
   ]
  },
  {
   "cell_type": "code",
   "execution_count": 5,
   "id": "e46afeeb-7afa-4c74-9bda-1015259a2b40",
   "metadata": {},
   "outputs": [
    {
     "name": "stdout",
     "output_type": "stream",
     "text": [
      ".   .DS_Store  .ipynb_checkpoints  llm_poc_question_article.ipynb\n",
      "..  .env       llm_poc_101.ipynb   requirements.txt\n"
     ]
    }
   ],
   "source": [
    "!ls -a"
   ]
  },
  {
   "cell_type": "code",
   "execution_count": 6,
   "id": "4bbc5118-7d44-4bc7-91fa-d749a36e9ee1",
   "metadata": {},
   "outputs": [
    {
     "data": {
      "text/plain": [
       "True"
      ]
     },
     "execution_count": 6,
     "metadata": {},
     "output_type": "execute_result"
    }
   ],
   "source": [
    "load_dotenv()"
   ]
  },
  {
   "cell_type": "code",
   "execution_count": 7,
   "id": "e73cf009-e0be-431c-8606-38703c265aa4",
   "metadata": {},
   "outputs": [
    {
     "data": {
      "text/plain": [
       "'""'"
      ]
     },
     "execution_count": 7,
     "metadata": {},
     "output_type": "execute_result"
    }
   ],
   "source": [
    "os.environ.get(\"GOOGLE_API_KEY\")"
   ]
  },
  {
   "cell_type": "code",
   "execution_count": 8,
   "id": "664258d3-8e14-4c73-95c8-f045295188b2",
   "metadata": {},
   "outputs": [
    {
     "data": {
      "text/plain": [
       "'""'"
      ]
     },
     "execution_count": 8,
     "metadata": {},
     "output_type": "execute_result"
    }
   ],
   "source": [
    "os.environ['PINECONE_API_KEY'] = \"""\"\n",
    "os.environ.get(\"PINECONE_API_KEY\")"
   ]
  },
  {
   "cell_type": "code",
   "execution_count": 9,
   "id": "449a28c9-6340-43d6-a45a-399b75075b6f",
   "metadata": {},
   "outputs": [],
   "source": [
    "genai.configure(api_key=os.environ.get(\"GOOGLE_API_KEY\"))"
   ]
  },
  {
   "cell_type": "markdown",
   "id": "61d74b4a-8398-4800-88e3-ca91b87ce145",
   "metadata": {},
   "source": [
    "# Get the article from web"
   ]
  },
  {
   "cell_type": "code",
   "execution_count": 10,
   "id": "865afe61-4457-41b8-b711-23bbadad1287",
   "metadata": {},
   "outputs": [],
   "source": [
    "web_content = get_text_from_web_article(par__article_url)"
   ]
  },
  {
   "cell_type": "code",
   "execution_count": 11,
   "id": "012f3065-e8bf-46b9-8bb8-d22bb3d9a134",
   "metadata": {},
   "outputs": [],
   "source": [
    "# Splitting up texts into document chunks\n",
    "\n",
    "text_splitter = RecursiveCharacterTextSplitter(\n",
    "    chunk_size = 100,\n",
    "    chunk_overlap  = 0,\n",
    ")\n",
    "\n",
    "texts = text_splitter.create_documents([web_content])"
   ]
  },
  {
   "cell_type": "code",
   "execution_count": 12,
   "id": "792e54ca-10fb-4ff3-865b-b8c6c60c385e",
   "metadata": {},
   "outputs": [
    {
     "data": {
      "text/plain": [
       "'more folks I spoke with about the role of Staff-plus engineers at their company, the better their'"
      ]
     },
     "execution_count": 12,
     "metadata": {},
     "output_type": "execute_result"
    }
   ],
   "source": [
    "texts[5].page_content"
   ]
  },
  {
   "cell_type": "code",
   "execution_count": 13,
   "id": "0d877498-8160-45cd-87b9-b1d4981ce163",
   "metadata": {},
   "outputs": [],
   "source": [
    "embeddings = GoogleGenerativeAIEmbeddings(model=\"models/embedding-001\")"
   ]
  },
  {
   "cell_type": "code",
   "execution_count": 14,
   "id": "acd9c04e-8937-444b-a393-b5b149d8a193",
   "metadata": {},
   "outputs": [
    {
     "data": {
      "text/plain": [
       "GoogleGenerativeAIEmbeddings(model='models/embedding-001', task_type=None, google_api_key=None, credentials=None, client_options=None, transport=None)"
      ]
     },
     "execution_count": 14,
     "metadata": {},
     "output_type": "execute_result"
    }
   ],
   "source": [
    "embeddings"
   ]
  },
  {
   "cell_type": "code",
   "execution_count": 15,
   "id": "f8b863ba-acf6-4656-8131-e50ad369ea4f",
   "metadata": {
    "scrolled": true
   },
   "outputs": [
    {
     "name": "stdout",
     "output_type": "stream",
     "text": [
      "[0.035539147, -0.01588701, -0.06093401, -0.015345827, 0.1072455, 0.014320397, 0.025980622, -0.04679444, -0.012692532, 0.056683604, 0.017088482, 0.0051324475, -0.02929702, -0.021885335, 0.034071058, -0.036216956, 0.025899606, 0.016804613, 0.026180929, -0.04528106, 0.0051276134, 0.012434314, -0.010382666, -0.014647196, -0.0013674786, 0.017662885, 0.010031028, -0.10148269, 0.01627072, 0.00023776965, 0.00034131936, 0.03730884, -0.04809122, 0.03871471, -0.0105177425, -0.011410749, 0.002259466, 0.00045816464, 0.031052614, 0.014604505, -0.008548708, -0.023186574, -0.026097285, 0.036120065, 0.015469395, -0.01155849, -0.03284381, 0.027361726, 0.034855004, -0.051733617, -0.041125998, 0.013262407, 0.052076414, 0.038358655, 0.0024653557, -0.05900416, 0.010282796, -0.033221077, -0.04492166, 0.044686366, -0.010023318, -0.026107341, 0.021396985, -0.008892472, -0.03043539, -0.10978758, -0.067691214, 0.0034165697, 0.046052445, 0.023852246, -0.0110889375, -0.030911056, 0.0627278, -0.021165559, 0.010550592, -0.11785041, -0.021039579, 0.01896713, -0.013154813, 0.003751727, -0.02040519, -0.05143844, -0.042119656, -0.033179957, -0.03484022, 0.015392375, -0.018592093, -0.011253194, 0.01856399, 0.06588443, -0.02551816, -0.037992127, 0.019832596, -0.0148793, -0.0021730377, 0.072636954, -0.06782706, -0.050308622, 0.014063975, -0.012425492, 0.0040349946, -0.032450005, -0.07757586, 0.034007743, 0.02705812, 0.015565484, 0.025029562, 0.043917622, -0.013785091, 0.016830444, -0.038404495, 0.009832016, 0.026060926, -0.014351414, 0.06605327, -0.013509827, 0.007039106, 0.06637921, 0.025830159, 0.020597897, 0.0444741, -0.008770869, 0.05931428, -0.017500436, -0.011019992, -0.03302517, 0.01436304, 0.029209198, 0.028900975, 0.04034455, 0.025454905, -0.05756331, -0.006346582, 0.03281272, 0.026819056, 0.087435596, 0.076069035, -0.04841151, 0.015764304, -0.01324703, 0.006165244, 0.003426397, -0.010832333, 0.024429573, -0.04391694, 0.08607024, -0.06491644, 0.00884638, 0.08246458, -0.019148642, -0.025420457, 0.06267364, -0.06619959, -0.03130337, 0.053573195, 0.007976583, -0.0025054682, -0.0062216716, 0.015051164, -0.0025157512, 0.054625858, -0.006688416, 0.011185399, 0.04046954, 0.0041840193, -0.023611281, 0.0048690927, -0.030882686, -0.014221361, -0.015345678, -0.041685183, 0.006055273, -0.07289224, -0.0059522176, -0.003234432, -0.04194947, -0.014307218, 0.0006544674, -0.044673607, 0.00019203206, -0.028432079, -0.036525935, 0.014138607, 0.034932204, 0.017033117, -0.021337673, 0.04723286, -0.023277128, -0.01218982, -0.0028019943, 0.020289008, -0.014778019, -0.034597993, -0.027237274, -0.039594784, 0.027092656, 0.052285537, 0.0057231965, 0.042809196, -0.03406298, -0.021819094, 0.06724806, 0.019424003, -0.03559278, 0.013328405, -0.01734571, 0.078769356, -0.036984514, -0.06186224, 0.04843078, -0.036816426, 0.019686406, -0.023881795, 0.013899705, 0.07999114, -0.012002437, 0.016029619, 0.011410644, 0.01948057, -0.012468242, 0.0016549651, 0.0014879705, -0.03863351, 0.059720222, -0.008098322, 0.04984485, -0.0030934245, 0.007743373, 0.022010079, -0.038250174, 0.018149395, 0.07720251, 0.05321487, -0.03810872, 0.058743134, 0.042699978, 0.02450363, 0.059780315, 0.032344528, 0.0042347396, -0.035776768, 0.013613339, 0.031828992, 0.0644377, -0.038965866, -0.006668322, -0.028523803, 0.036045793, 0.0009320211, 0.07251241, -0.007279222, -0.041150723, -0.02448899, -0.03830525, -0.07166103, 0.041395143, -0.017219752, 0.05102565, -0.07404004, 0.015126959, 0.049632676, -0.015452322, 0.018595196, -0.0050725285, 0.0029845494, -0.060063053, -0.020872379, -0.03422824, 0.009831763, 0.04390372, 0.0032419818, -0.069120765, 0.021266138, 0.017788688, 0.03837657, 0.014471733, 0.008440211, 0.044017006, 0.044864643, -0.061006673, -0.0006791906, 0.04328459, 0.05104478, -0.007564129, -0.019399373, -0.012282783, -0.04813552, -0.018144026, -0.0360378, -0.04882857, -0.0028472806, -0.027749525, 0.00040110789, -0.06328931, -0.047900937, -0.017859226, -0.03466011, 0.02695284, 0.009246942, -0.044344228, -0.0072226254, -0.067075096, 0.016966522, -0.11531142, -0.02063901, -0.009931047, -0.0012974096, -0.05027285, 0.049632315, -0.015317524, 0.043043856, -0.0066416445, -0.018988857, -0.012950205, 0.025939818, 0.051080197, -0.0074646077, 0.01516388, -0.03530351, 0.06871268, -0.033132926, 0.06740209, -0.009787291, -0.010732887, 0.0006792308, 0.037282817, -0.029463511, -0.0034626513, 0.014356748, 0.026988555, -0.05110283, -0.0072185234, 0.002474411, 0.00837285, -0.011675525, 0.0063945283, -0.11858162, 0.0015849626, -0.047255978, -0.0027683051, 0.03541256, 0.0132265715, 0.0060197385, -0.029554997, -0.011689411, 0.0032546618, -0.055291243, 0.0059694936, 0.07276925, 0.05785882, 0.010660381, 0.044144846, -0.019514581, -0.01694297, -0.0003487519, -0.011102614, 0.0331757, -0.020974023, 0.045843616, 0.012419963, 0.025003212, 0.00892407, -0.015627874, -8.981775e-05, -0.018978002, -0.025819575, -0.028096324, 0.0042255092, 0.026816174, 0.078876935, 0.035248246, 0.0089076, 0.005203427, -0.034386028, -0.011504668, -0.027154664, -0.057930026, -0.04211655, 0.0034590466, 0.043896653, 0.005353904, 0.00746628, 0.016034242, 0.034098815, -0.0020642898, -0.03202689, 0.036213264, 0.049823638, -0.06607865, 0.05506531, -0.05529345, 0.02301852, 0.10244275, 0.03398817, 0.002265202, -0.019527752, 0.035232604, -0.021182017, -0.002861777, 0.006881619, -0.038620394, -0.08773535, -0.03157322, -0.020331644, -0.0321716, 0.02968903, 0.007609219, -0.0010593918, -0.0316423, -0.007935854, -0.015528024, 0.027426438, -0.023068354, -0.066898786, -0.031011714, -0.023126869, 0.022141824, -0.040185373, -0.029947715, 0.045659624, 0.01647635, -0.01276584, 0.033253238, 0.023281466, -0.089255214, -0.034373913, 0.0023380297, 0.011212643, 0.038125325, -0.010450738, -0.008355506, -0.019233068, -0.010241766, -0.0026846314, 0.014344587, -0.048676804, -0.018656433, 0.052112732, -0.0067639328, 0.0046087815, 0.05448599, -0.018481739, 0.040250525, -0.019390779, -0.0021745942, -0.020875739, -0.013790565, -0.011526275, 0.003010468, -0.12402885, 0.06728065, -0.070640944, -0.052484088, -0.042300176, -0.064561464, -0.018838694, 0.011646155, 0.030698055, -0.0023997885, 0.023306305, 0.015271269, -0.033435743, -0.044139586, -0.05153364, 0.028824363, -0.0069038123, 0.0133200735, -0.009097168, -0.0070270156, 0.021259416, 0.014279367, -0.0029304188, 0.010986295, -0.01730207, -0.003858306, -0.030497763, -0.062332034, 0.04904354, -0.038287666, -0.005101855, 0.015897198, -0.013240401, 0.020981852, 0.03818339, -0.018700333, 0.01833541, 0.04038248, 0.005802759, -0.0039820466, 0.0309335, 0.051613152, 0.024951562, 0.0077913012, -0.06441098, -0.03160712, 0.016060065, -0.022793677, 0.038208626, 0.043303262, 0.002759626, -0.0131512, -0.021990841, -0.02255854, -0.027712228, 0.08114053, -0.032242402, 0.013687133, 0.010675516, 0.008423368, -0.010581083, 0.026869254, 0.032055106, -0.03416136, -0.027903225, 0.031465694, -0.0319387, -0.02686695, 0.042935062, 0.017097995, -0.008640281, 0.065152586, 0.009738491, -0.10608256, -0.023657717, 0.005854589, -0.04466011, -0.012382715, 0.026001481, -0.028363295, 0.02027517, 0.016382072, 0.06363237, -0.033889595, -0.025694232, -0.009099082, -0.033071194, 0.011270761, -0.0109440945, 0.017432272, -0.02565084, 0.015045577, -0.022359604, 0.031105235, 0.0017384941, -0.03791905, 0.0029072375, 0.027432391, -0.083799936, -0.008471275, 0.0016647044, -0.0145121375, 0.018151429, 0.034968115, -0.022924965, 0.029985778, -0.048985276, -0.02142095, 0.009349553, 0.03361797, -0.026573937, -0.037231777, 0.029287918, 0.0063677086, 0.041035984, 0.05348406, 0.05406019, -0.017039606, -0.036064364, 0.04613006, -0.015215136, -0.008374443, 0.014136513, -0.010928631, 0.0060681636, 0.04264111, -0.02472699, -0.014259159, 0.00054161594, -0.0039609578, 0.012276806, 0.03070417, -0.014371625, -0.003785356, 0.046165038, -0.038715977, -0.008039491, 0.050675172, 0.041446198, 0.019894727, 0.00646684, -0.06939047, 0.015394706, -0.0037704217, -0.033057343, -0.005547669, 0.042428646, 0.0042806217, -0.028297696, -0.06938696, -0.02028392, 0.02747693, -0.053582184, -0.005576147, -0.042553876, -0.0012475401, 0.001280675, -0.012118389, 0.021048747, 0.029605867, 0.050273355, 0.008618834, -0.020536494, -0.024056137, -0.02748656, -0.01062013, -0.023183923, 0.07382905, 0.0011105534, -0.009992996, -0.022446295, 0.04335609, -0.027773675, -0.0072816415, 0.02834192, 0.036440544, 0.005193083, -0.03913836, -0.04696786, 0.06952663, 0.02406036, 0.07961847, 0.07436604, 0.026164044, -0.008362805, -0.022049977, 0.03836504, -0.03582395, 0.021537302, 0.046691388, -0.0012039191, -0.052673478, 0.0020994819, 0.022296125, -0.0010335562, 0.021187525, 0.08479121, 0.003704334, -0.0842384, -0.07047561, -0.0061909724, -0.050051, 0.007036148, 0.02418002, -0.004033373, 0.01584883, 0.03316547, -0.021826848, -0.060366794, 0.018546134, -0.012158672, -0.03618236, -0.019557921, -0.026758563, 0.03005767, 0.040494516, -0.021079967, -0.04789224, -0.085921444, -0.016547676, 0.04339063, -0.057182163, 0.041664958, 0.050358318, -0.025117896, 0.030790867, -0.009004715, -0.016743178, 0.032182995, 0.008398155, 0.015270085, 0.024686797, -0.009034074, -0.023698812, 0.02010811, -0.008901674, 0.02323789, 0.009047271, 0.00865292, -0.054572836, -0.053085662, 0.008360567, -0.084152624, 0.0036314798, 0.021387216, 0.04005902, 0.014105982, -0.009288122, -0.022774551, 0.023761341, 0.06328995, 0.007851389, -0.06045235, 0.0012156612, 0.0040836628, 0.013387239, -0.0033705647, -0.008406725, -0.015838785, 0.03363986, 0.0448374, 0.04103736, -0.06242437, -0.0033109398, 0.04688094, -0.02260547, 0.010645045, 0.010548244, 0.018499674, -0.040610813, 0.07143234, 0.036791198, 0.021634266, -0.02325461, -0.038814098, -0.04207623, 0.07811147, -0.04738446, 0.027616149, -0.018540319, -0.026207227, 0.035781115, -0.008805549, -0.0019053982, 0.041000117, -0.007943895, 0.12412556, 0.034210164, 0.052945863, 0.018050762, -0.043406136, -0.037841875, 0.031341404, -0.011291454, 0.08512141, 0.029754918, -0.018351393, -0.008012773, -0.008538014, -0.02261571, -0.054790907, -0.031226281, 0.010144846, 0.014206974, 0.029591147, 0.014078134, -0.039052445, -0.01595643, 0.0041423165, -0.0052992455, 0.025229868, -0.026584618, 0.0039383885, -0.00563611, 0.0018422202, 0.008653974, 0.03557608, 0.00018848591, 0.026748516]\n"
     ]
    }
   ],
   "source": [
    "# Test embeddings\n",
    "query_result = embeddings.embed_query(texts[0].page_content)\n",
    "print(query_result)\n",
    "     "
   ]
  },
  {
   "cell_type": "code",
   "execution_count": 16,
   "id": "57ead302-0c11-4fc6-b78b-c5810635dae4",
   "metadata": {},
   "outputs": [
    {
     "data": {
      "text/plain": [
       "'""'"
      ]
     },
     "execution_count": 16,
     "metadata": {},
     "output_type": "execute_result"
    }
   ],
   "source": [
    "os.getenv('PINECONE_API_KEY')"
   ]
  },
  {
   "cell_type": "code",
   "execution_count": 17,
   "id": "e1232b3b-97cb-4715-ae12-8fed8bbd0481",
   "metadata": {},
   "outputs": [],
   "source": [
    "pc = Pinecone(api_key=str(os.getenv('PINECONE_API_KEY')).strip(\"\\\"\"))"
   ]
  },
  {
   "cell_type": "code",
   "execution_count": 20,
   "id": "ed0db555-ea2d-458d-b187-22a03c85e27b",
   "metadata": {},
   "outputs": [],
   "source": [
    "pc.create_index(\n",
    "    name=\"llm-101-poc\",\n",
    "    dimension=768, # Replace with your model dimensions\n",
    "    metric=\"euclidean\", # Replace with your model metric\n",
    "    spec=ServerlessSpec(\n",
    "        cloud=\"aws\",\n",
    "        region=\"us-east-1\"\n",
    "    ) \n",
    ")"
   ]
  },
  {
   "cell_type": "code",
   "execution_count": 21,
   "id": "108fe7b8-1fd8-48c4-b8c3-1b0604c19dc8",
   "metadata": {},
   "outputs": [],
   "source": [
    "# vectorstore = PineconeVectorStore(index_name=index_name, embedding=embeddings)"
   ]
  },
  {
   "cell_type": "code",
   "execution_count": 22,
   "id": "a26c4bf7-0dc4-4960-821e-c6db973f56fa",
   "metadata": {
    "scrolled": true
   },
   "outputs": [],
   "source": [
    "# Upload vectors to Pinecone\n",
    "index_name = \"llm-101-poc\"\n",
    "# search = Pinecone.from_documents(texts, embeddings, index_name=index_name)\n",
    "\n",
    "vectorstore_from_docs = PineconeVectorStore.from_documents(\n",
    "        texts,\n",
    "        index_name=index_name,\n",
    "        embedding=embeddings\n",
    "    )"
   ]
  },
  {
   "cell_type": "code",
   "execution_count": 23,
   "id": "799288df-12c3-404f-a142-ed1fb4da24a4",
   "metadata": {},
   "outputs": [
    {
     "name": "stdout",
     "output_type": "stream",
     "text": [
      "[]\n"
     ]
    }
   ],
   "source": [
    "# Do a simple vector similarity search\n",
    "\n",
    "query = \"cv\"\n",
    "result = vectorstore_from_docs.similarity_search(query)\n",
    "\n",
    "print(result)"
   ]
  },
  {
   "cell_type": "markdown",
   "id": "96ede0cc-8df4-470f-ab38-866bbe08917f",
   "metadata": {},
   "source": [
    "## LLM"
   ]
  },
  {
   "cell_type": "code",
   "execution_count": 24,
   "id": "76c3457f-b8a2-4c65-b58c-03f074314562",
   "metadata": {},
   "outputs": [],
   "source": [
    "genai.configure(api_key=os.environ.get(\"GOOGLE_API_KEY\"))"
   ]
  },
  {
   "cell_type": "code",
   "execution_count": 25,
   "id": "aa0f5b68-2a7a-4d1e-9647-f359a933c30d",
   "metadata": {
    "scrolled": true
   },
   "outputs": [],
   "source": [
    "model = ChatGoogleGenerativeAI(model=\"gemini-pro\",\n",
    "                             temperature=0.3)"
   ]
  },
  {
   "cell_type": "code",
   "execution_count": 26,
   "id": "cf63e04f-1420-4291-824d-5d1a309c3d7b",
   "metadata": {
    "scrolled": true
   },
   "outputs": [
    {
     "data": {
      "text/plain": [
       "ChatGoogleGenerativeAI(model='gemini-pro', temperature=0.3, client=genai.GenerativeModel(\n",
       "    model_name='models/gemini-pro',\n",
       "    generation_config={},\n",
       "    safety_settings={},\n",
       "    tools=None,\n",
       "    system_instruction=None,\n",
       "))"
      ]
     },
     "execution_count": 26,
     "metadata": {},
     "output_type": "execute_result"
    }
   ],
   "source": [
    "model"
   ]
  },
  {
   "cell_type": "code",
   "execution_count": 27,
   "id": "9d7abe27-0bf6-4d59-a53e-ce1358d4df71",
   "metadata": {},
   "outputs": [
    {
     "name": "stdout",
     "output_type": "stream",
     "text": [
      "The total words in the context:  11346\n"
     ]
    }
   ],
   "source": [
    "context = \"\\n\".join(str(p.page_content) for p in texts)\n",
    "print(\"The total words in the context: \", len(context))"
   ]
  },
  {
   "cell_type": "code",
   "execution_count": 28,
   "id": "f96f4e48-8058-4122-8e5a-b238b23482d1",
   "metadata": {},
   "outputs": [],
   "source": [
    "prompt_template = \"\"\"Answer the question as precise as possible using the provided context. If the answer is\n",
    "                    not contained in the context, say \"answer not available in context\" \\n\\n\n",
    "                    Context: \\n {context}?\\n\n",
    "                    Question: \\n {question} \\n\n",
    "                    Answer:\n",
    "                  \"\"\"\n",
    "\n",
    "prompt = PromptTemplate(\n",
    "    template=prompt_template, input_variables=[\"context\", \"question\"]\n",
    ")"
   ]
  },
  {
   "cell_type": "code",
   "execution_count": 29,
   "id": "4a5c3a8a-40aa-436c-802c-6ec2893205e6",
   "metadata": {},
   "outputs": [],
   "source": [
    "stuff_chain = load_qa_chain(model, chain_type=\"stuff\", prompt=prompt)\n"
   ]
  },
  {
   "cell_type": "code",
   "execution_count": 40,
   "id": "39735858-daa7-4864-9691-42c39fab7926",
   "metadata": {
    "scrolled": true
   },
   "outputs": [],
   "source": [
    "# question = \"What is the types of leader? Provide a detailed answer.\"\n",
    "question = \"What does a solver leader do?\"\n",
    "\n",
    "\n",
    "stuff_answer = stuff_chain(\n",
    "    {\"input_documents\": texts, \"question\": question}, return_only_outputs=True\n",
    ")"
   ]
  },
  {
   "cell_type": "code",
   "execution_count": 41,
   "id": "a1b5b6a8-a2e1-45fe-85b6-23afc3b237db",
   "metadata": {},
   "outputs": [
    {
     "data": {
      "text/markdown": [
       "> Solvers are trusted agents of the organization who go deep into knotty problems, continuing to work on them until they're resolved."
      ],
      "text/plain": [
       "<IPython.core.display.Markdown object>"
      ]
     },
     "execution_count": 41,
     "metadata": {},
     "output_type": "execute_result"
    }
   ],
   "source": [
    "to_markdown(stuff_answer[\"output_text\"])"
   ]
  },
  {
   "cell_type": "markdown",
   "id": "3fcc112b-4d5d-4368-95d8-c0ad5e97606f",
   "metadata": {},
   "source": [
    "---\n",
    "# End."
   ]
  }
 ],
 "metadata": {
  "kernelspec": {
   "display_name": "Python 3 (ipykernel)",
   "language": "python",
   "name": "python3"
  },
  "language_info": {
   "codemirror_mode": {
    "name": "ipython",
    "version": 3
   },
   "file_extension": ".py",
   "mimetype": "text/x-python",
   "name": "python",
   "nbconvert_exporter": "python",
   "pygments_lexer": "ipython3",
   "version": "3.11.8"
  }
 },
 "nbformat": 4,
 "nbformat_minor": 5
}
