{
 "cells": [
  {
   "cell_type": "markdown",
   "id": "9839a4c1-0d37-4cc0-8f39-6efd77f093e6",
   "metadata": {
    "jp-MarkdownHeadingCollapsed": true
   },
   "source": [
    "# LLM 101 PoC\n",
    "\n",
    "Goal: Upload a pdf and ask a question about its content, and LLM+LangChain+VectorStore will answer based on the pdf."
   ]
  },
  {
   "cell_type": "markdown",
   "id": "16775c25-dfe1-422f-ba95-c5794ec19e2f",
   "metadata": {},
   "source": [
    "# Installs"
   ]
  },
  {
   "cell_type": "code",
   "execution_count": 2,
   "id": "541d3120-3308-47db-8651-f1f660389dc2",
   "metadata": {},
   "outputs": [],
   "source": [
    "# !pip install -q --upgrade google-generativeai"
   ]
  },
  {
   "cell_type": "code",
   "execution_count": 1,
   "id": "7e402d0b-ea7a-4d52-9fa8-4a276c9e9170",
   "metadata": {
    "scrolled": true
   },
   "outputs": [],
   "source": [
    "# !pip install langchain-google-genai"
   ]
  },
  {
   "cell_type": "code",
   "execution_count": 2,
   "id": "66f3185f-8b0a-4fe6-b1b3-7159b31a719e",
   "metadata": {},
   "outputs": [],
   "source": [
    "# !pip install langchain_pinecone"
   ]
  },
  {
   "cell_type": "code",
   "execution_count": 3,
   "id": "389a16cf-6540-47a5-8733-72c8e2f9e942",
   "metadata": {},
   "outputs": [],
   "source": [
    "# !pip install python-dotenv"
   ]
  },
  {
   "cell_type": "code",
   "execution_count": 4,
   "id": "81507c79-ed9a-4483-ab6c-abf451f9b093",
   "metadata": {},
   "outputs": [],
   "source": [
    "# !pip install PyPDF2"
   ]
  },
  {
   "cell_type": "code",
   "execution_count": 5,
   "id": "6ae6cc11-f163-4a0d-b769-fd7c6f83ecef",
   "metadata": {},
   "outputs": [],
   "source": [
    "#!pip install langchain --upgrade"
   ]
  },
  {
   "cell_type": "markdown",
   "id": "be6cedcf-ae65-46a9-a718-0ff0949867ff",
   "metadata": {},
   "source": [
    "# Library"
   ]
  },
  {
   "cell_type": "code",
   "execution_count": 6,
   "id": "2d567235-b004-4e61-b623-125a78bab33d",
   "metadata": {},
   "outputs": [],
   "source": [
    "import google.generativeai as genai\n",
    "import os\n",
    "\n",
    "from dotenv import load_dotenv\n",
    "from IPython.display import display\n",
    "from IPython.display import Markdown\n",
    "import textwrap\n",
    "from langchain_google_genai import ChatGoogleGenerativeAI\n",
    "from langchain import PromptTemplate\n",
    "from langchain.chains import LLMChain\n",
    "from langchain.chains import SimpleSequentialChain\n",
    "import requests\n",
    "from bs4 import BeautifulSoup\n",
    "import re\n",
    "from langchain.text_splitter import RecursiveCharacterTextSplitter\n",
    "from langchain_google_genai import GoogleGenerativeAIEmbeddings\n",
    "from langchain_pinecone import PineconeVectorStore\n",
    "from pinecone import Pinecone, ServerlessSpec\n",
    "# from langchain.chains.question_answering import load_qa_chain\n",
    "# from langchain.prompts import ChatPromptTemplate\n",
    "from langchain.chains.combine_documents import create_stuff_documents_chain\n",
    "from langchain.chains import create_retrieval_chain\n",
    "from pprint import pprint\n",
    "from PyPDF2 import PdfReader"
   ]
  },
  {
   "cell_type": "code",
   "execution_count": 7,
   "id": "a79eafbb-2c27-40ce-959e-cb66cb0e1ba2",
   "metadata": {},
   "outputs": [],
   "source": [
    "def to_markdown(text):\n",
    "  text = text.replace('•', '  *')\n",
    "  return Markdown(textwrap.indent(text, '> ', predicate=lambda _: True))\n",
    "\n",
    "def get_text_from_web_article(url):\n",
    "    try:\n",
    "        response = requests.get(url)\n",
    "        # Check if request was successful\n",
    "        if response.status_code == 200:\n",
    "            soup = BeautifulSoup(response.content, 'html.parser')\n",
    "            text = soup.get_text()\n",
    "            parsed_text = text.replace('\\n', ' ')\n",
    "            return parsed_text\n",
    "        else:\n",
    "            print(\"Failed to fetch content from URL:\", url)\n",
    "            return None\n",
    "    except Exception as e:\n",
    "        print(\"An error occurred:\", e)\n",
    "        return None\n",
    "\n",
    "def read_pdf(file_path):\n",
    "    ''' Read a pdf file and get its content '''\n",
    "\n",
    "    pdf_reader = PdfReader(file_path)\n",
    "    file_text_content = pdf_reader\n",
    "    text_content = \"\"\n",
    "    number_of_pages = len(pdf_reader.pages)\n",
    "    for i_page in range(number_of_pages):\n",
    "        page = pdf_reader.pages[i_page]\n",
    "        text_content += page.extract_text()\n",
    "        \n",
    "    return text_content"
   ]
  },
  {
   "cell_type": "markdown",
   "id": "d5b6abc5-5c1f-48bd-b8fd-c90028ca66ce",
   "metadata": {},
   "source": [
    "# Parameters"
   ]
  },
  {
   "cell_type": "code",
   "execution_count": 113,
   "id": "819781bc-ea9b-48d2-b30e-eac9c2838b13",
   "metadata": {},
   "outputs": [],
   "source": [
    "par__vector_store_index_name = \"llm-101-poc\"\n",
    "par__pdf_file_path = \"../data/articleAccessibleDesign.pdf\"\n",
    "par__verbose_mode = True"
   ]
  },
  {
   "cell_type": "markdown",
   "id": "e7e29b4f-cb94-4059-a553-2ab782e75a8d",
   "metadata": {},
   "source": [
    "# Authentication"
   ]
  },
  {
   "cell_type": "markdown",
   "id": "0e821f1d-9f66-41d2-a4b3-92ba9e62c0c1",
   "metadata": {},
   "source": [
    "## Setting API key"
   ]
  },
  {
   "cell_type": "code",
   "execution_count": 15,
   "id": "4bbc5118-7d44-4bc7-91fa-d749a36e9ee1",
   "metadata": {},
   "outputs": [
    {
     "data": {
      "text/plain": [
       "True"
      ]
     },
     "execution_count": 15,
     "metadata": {},
     "output_type": "execute_result"
    }
   ],
   "source": [
    "load_dotenv()"
   ]
  },
  {
   "cell_type": "code",
   "execution_count": 10,
   "id": "e73cf009-e0be-431c-8606-38703c265aa4",
   "metadata": {},
   "outputs": [],
   "source": [
    "# os.environ.get(\"GOOGLE_API_KEY\")"
   ]
  },
  {
   "cell_type": "code",
   "execution_count": 11,
   "id": "664258d3-8e14-4c73-95c8-f045295188b2",
   "metadata": {},
   "outputs": [],
   "source": [
    "# os.environ.get(\"PINECONE_API_KEY\")"
   ]
  },
  {
   "cell_type": "code",
   "execution_count": 12,
   "id": "449a28c9-6340-43d6-a45a-399b75075b6f",
   "metadata": {},
   "outputs": [],
   "source": [
    "genai.configure(api_key=os.environ.get(\"GOOGLE_API_KEY\"))"
   ]
  },
  {
   "cell_type": "markdown",
   "id": "61d74b4a-8398-4800-88e3-ca91b87ce145",
   "metadata": {},
   "source": [
    "# Get content from PDF file"
   ]
  },
  {
   "cell_type": "code",
   "execution_count": 16,
   "id": "865afe61-4457-41b8-b711-23bbadad1287",
   "metadata": {},
   "outputs": [],
   "source": [
    "pdf_raw_text_content = read_pdf(par__pdf_file_path)"
   ]
  },
  {
   "cell_type": "code",
   "execution_count": 119,
   "id": "012f3065-e8bf-46b9-8bb8-d22bb3d9a134",
   "metadata": {},
   "outputs": [],
   "source": [
    "# Splitting up texts into document chunks\n",
    "\n",
    "text_splitter = RecursiveCharacterTextSplitter(\n",
    "    chunk_size = 500,\n",
    "    chunk_overlap  = 0,\n",
    ")\n",
    "\n",
    "texts = text_splitter.create_documents([pdf_raw_text_content])"
   ]
  },
  {
   "cell_type": "code",
   "execution_count": 115,
   "id": "e78a2dd2-b31f-4326-ab33-608425e6394b",
   "metadata": {
    "scrolled": true
   },
   "outputs": [
    {
     "data": {
      "text/plain": [
       "[Document(page_content='Accessible design is easier than you think\\nEasy-to-follow guidelines can make accessibility part of your everyday design\\nprocess\\nCintia Romero·Follow\\nPublished inPinterest Design\\n5 min read·Oct 27, 2021\\nListen Share More\\nAssistive device | Photo by Sigmund on UnsplashGet unlimited access to the best of Medium for less than $1/week.Become a member\\n4/29/24, 5:47 PM Accessible design is easier than you think | by Cintia Romero | Pinterest Design', metadata={'text': 'Accessible design is easier than you think\\nEasy-to-follow guidelines can make accessibility part of your everyday design\\nprocess\\nCintia Romero·Follow\\nPublished inPinterest Design\\n5 min read·Oct 27, 2021\\nListen Share More\\nAssistive device | Photo by Sigmund on UnsplashGet unlimited access to the best of Medium for less than $1/week.Become a member\\n4/29/24, 5:47 PM Accessible design is easier than you think | by Cintia Romero | Pinterest Design'}),\n",
       " Document(page_content='https://pinterest.design/accessible-design-is-easier-than-you-think-29c1d3200d87 1/13As a designer with deuteranomaly (red-green color blindness), my desire to make\\ndesign accessible started long ago. I don’t see colors the same way you do; they may\\nappear in a different shade, and it can be tricky when designing. I also have friends\\nand family members with disabilities, and I learned that interacting with digital', metadata={'text': 'https://pinterest.design/accessible-design-is-easier-than-you-think-29c1d3200d87 1/13As a designer with deuteranomaly (red-green color blindness), my desire to make\\ndesign accessible started long ago. I don’t see colors the same way you do; they may\\nappear in a different shade, and it can be tricky when designing. I also have friends\\nand family members with disabilities, and I learned that interacting with digital'}),\n",
       " Document(page_content='products is a real challenge for them. My life experiences and social interactions\\nmade me want to do better by applying my skills to create an accessible design while\\nreaching out to more users, inspiring others to care as well.\\nSo, here I am, working at Pinterest as a Product Designer (Design Systems),\\nadvocating for accessibility, and doing my best, ensuring that everyone has the same\\nexperience when interacting with our products, no matter their background,\\nknowledge base, or ability.', metadata={'text': 'products is a real challenge for them. My life experiences and social interactions\\nmade me want to do better by applying my skills to create an accessible design while\\nreaching out to more users, inspiring others to care as well.\\nSo, here I am, working at Pinterest as a Product Designer (Design Systems),\\nadvocating for accessibility, and doing my best, ensuring that everyone has the same\\nexperience when interacting with our products, no matter their background,\\nknowledge base, or ability.'}),\n",
       " Document(page_content='Accessibility design brings your work to more people\\nAccording to the WHO (World Health Organization) in their World Report on\\nDisability, estimated that 15% of the global population lives with some form of\\ndisability. Of these, 2 to 4% experience significant difficulties.\\nThe Business Case for Digital Accessibility states that creating accessible products\\ndrives innovation, enhances the brand, reaches out to a bigger audience, increases\\ndownloads, and minimizes legal risks.', metadata={'text': 'Accessibility design brings your work to more people\\nAccording to the WHO (World Health Organization) in their World Report on\\nDisability, estimated that 15% of the global population lives with some form of\\ndisability. Of these, 2 to 4% experience significant difficulties.\\nThe Business Case for Digital Accessibility states that creating accessible products\\ndrives innovation, enhances the brand, reaches out to a bigger audience, increases\\ndownloads, and minimizes legal risks.'}),\n",
       " Document(page_content='Besides helping your products meet level AA or AAA of WCAG 2.1 (Web Content\\nAccessibility Guidelines), applying accessibility standards also support solutions for\\nthe most used assistive technologies. Think about users who rely on screen readers,\\ndifferent types of keyboards, screen magnifiers, and speech tools. Making a product\\naccessible means making it more usable and reachable. It is a win!\\nIn general, designing accessible products doesn’t delay deliveries or impact team', metadata={'text': 'Besides helping your products meet level AA or AAA of WCAG 2.1 (Web Content\\nAccessibility Guidelines), applying accessibility standards also support solutions for\\nthe most used assistive technologies. Think about users who rely on screen readers,\\ndifferent types of keyboards, screen magnifiers, and speech tools. Making a product\\naccessible means making it more usable and reachable. It is a win!\\nIn general, designing accessible products doesn’t delay deliveries or impact team'}),\n",
       " Document(page_content='performance; instead, it helps the engineering team implement significant\\naccessibility standards in the earliest stages, encouraging good coding practices.\\nFixing an inaccessible product later may require extra effort, time and impact the\\nbusiness plans and deliverables.\\nI want to share easy-to-follow WCAG 2.1 design guidelines I use in my daily design\\nprocess when evaluating accessibility in my projects. I organized these guidelines by', metadata={'text': 'performance; instead, it helps the engineering team implement significant\\naccessibility standards in the earliest stages, encouraging good coding practices.\\nFixing an inaccessible product later may require extra effort, time and impact the\\nbusiness plans and deliverables.\\nI want to share easy-to-follow WCAG 2.1 design guidelines I use in my daily design\\nprocess when evaluating accessibility in my projects. I organized these guidelines by'}),\n",
       " Document(page_content='each disability type to simplify understanding and help you reach out to more users4/29/24, 5:47 PM Accessible design is easier than you think | by Cintia Romero | Pinterest Design\\nhttps://pinterest.design/accessible-design-is-easier-than-you-think-29c1d3200d87 2/13by considering accessibility. In addition, they are easy to fit in your design process\\nbandwidth.\\nIn general, designing accessible products doesn’t\\ndelay deliveries or impact team performance;', metadata={'text': 'each disability type to simplify understanding and help you reach out to more users4/29/24, 5:47 PM Accessible design is easier than you think | by Cintia Romero | Pinterest Design\\nhttps://pinterest.design/accessible-design-is-easier-than-you-think-29c1d3200d87 2/13by considering accessibility. In addition, they are easy to fit in your design process\\nbandwidth.\\nIn general, designing accessible products doesn’t\\ndelay deliveries or impact team performance;'}),\n",
       " Document(page_content='instead, it helps the engineering team implement\\nsignificant accessibility standards in the earliest\\nstages, encouraging good coding practices.\\nYour practical easy-to-follow guidelines\\nVisual disability\\nAdopt a minimum text size: WCAG 2.1 advises using text no smaller than 16pt.\\nAdd Alt tags + captions: Make sure to add descriptive text for screen readers.\\nLearn more about text alternatives.\\nEnsure enough contrast: Ensure the colors and font weights and sizes have a', metadata={'text': 'instead, it helps the engineering team implement\\nsignificant accessibility standards in the earliest\\nstages, encouraging good coding practices.\\nYour practical easy-to-follow guidelines\\nVisual disability\\nAdopt a minimum text size: WCAG 2.1 advises using text no smaller than 16pt.\\nAdd Alt tags + captions: Make sure to add descriptive text for screen readers.\\nLearn more about text alternatives.\\nEnsure enough contrast: Ensure the colors and font weights and sizes have a'}),\n",
       " Document(page_content='contrast ratio of at least 4.5:1. I recommend using a tool like\\naremycolorsaccessible.com to evaluate the foreground color in relationship with\\nthe background color or Able plugin (on Figma) to check color contrast in your\\ndesigns.\\nCreate a clear hierarchy: Create predictable layouts and section headings to\\ncreate a semantic structure. Screen reader users can quickly navigate an entire\\npage by analyzing the headings.\\nDon’t solely rely on color to convey information: Besides colors, add text or', metadata={'text': 'contrast ratio of at least 4.5:1. I recommend using a tool like\\naremycolorsaccessible.com to evaluate the foreground color in relationship with\\nthe background color or Able plugin (on Figma) to check color contrast in your\\ndesigns.\\nCreate a clear hierarchy: Create predictable layouts and section headings to\\ncreate a semantic structure. Screen reader users can quickly navigate an entire\\npage by analyzing the headings.\\nDon’t solely rely on color to convey information: Besides colors, add text or'}),\n",
       " Document(page_content='icons to support your use case. Color-only variations do not work well for those\\nwho may be color blind or have vision impairments.\\nAccount for zooming: Make sure designs can scale when users increase page\\nelement sizes. For example, does your design still work when zoomed in 200%?4/29/24, 5:47 PM Accessible design is easier than you think | by Cintia Romero | Pinterest Design\\nhttps://pinterest.design/accessible-design-is-easier-than-you-think-29c1d3200d87 3/13Hearing disability', metadata={'text': 'icons to support your use case. Color-only variations do not work well for those\\nwho may be color blind or have vision impairments.\\nAccount for zooming: Make sure designs can scale when users increase page\\nelement sizes. For example, does your design still work when zoomed in 200%?4/29/24, 5:47 PM Accessible design is easier than you think | by Cintia Romero | Pinterest Design\\nhttps://pinterest.design/accessible-design-is-easier-than-you-think-29c1d3200d87 3/13Hearing disability'}),\n",
       " Document(page_content='Provide text transcripts: Any media that plays a sound should have a transcript\\navailable to users. While WCAG requires captions and audio descriptions for pre-\\nrecorded content, including a transcript is strongly advised.\\nAdd haptic feedback: Pair audio with another form of feedback. If possible,\\nutilize haptic technology to provide feedback instead of only relying on sound; it\\nsimulates the sense of touch and makes a huge difference for people with\\nhearing disabilities.\\nCognitive disability', metadata={'text': 'Provide text transcripts: Any media that plays a sound should have a transcript\\navailable to users. While WCAG requires captions and audio descriptions for pre-\\nrecorded content, including a transcript is strongly advised.\\nAdd haptic feedback: Pair audio with another form of feedback. If possible,\\nutilize haptic technology to provide feedback instead of only relying on sound; it\\nsimulates the sense of touch and makes a huge difference for people with\\nhearing disabilities.\\nCognitive disability'}),\n",
       " Document(page_content='Avoid cluttered design: Focus on specific tasks instead of presenting long flows.\\nWhen possible, aim for clear and straightforward tasks as several people have\\nintensified sensory awareness and can be overwhelmed by cluttered\\npages/screens.\\nCreate focus states: Provide focus states for all interactive elements and text on\\nthe page. Make sure to consider users relying on keyboard navigation.\\nCome up with multiple ways to communicate: Illustrations, iconography, audio,', metadata={'text': 'Avoid cluttered design: Focus on specific tasks instead of presenting long flows.\\nWhen possible, aim for clear and straightforward tasks as several people have\\nintensified sensory awareness and can be overwhelmed by cluttered\\npages/screens.\\nCreate focus states: Provide focus states for all interactive elements and text on\\nthe page. Make sure to consider users relying on keyboard navigation.\\nCome up with multiple ways to communicate: Illustrations, iconography, audio,'}),\n",
       " Document(page_content='and video paired with content raise accessibility for people with cognitive\\ndisabilities.\\nWrite text as simple as possible: Provide definitions for specific terminologies,\\nsuch as idioms, dialects, and acronyms. Pay attention to grammar and spelling.\\nPeople with cognitive disabilities can fixate on things they don’t understand and\\nlose focus.\\nRefrain from doing page refresh and temporary messages: Avoid automatic\\nrefreshes and displaying temporary messages that will disappear whenever', metadata={'text': 'and video paired with content raise accessibility for people with cognitive\\ndisabilities.\\nWrite text as simple as possible: Provide definitions for specific terminologies,\\nsuch as idioms, dialects, and acronyms. Pay attention to grammar and spelling.\\nPeople with cognitive disabilities can fixate on things they don’t understand and\\nlose focus.\\nRefrain from doing page refresh and temporary messages: Avoid automatic\\nrefreshes and displaying temporary messages that will disappear whenever'}),\n",
       " Document(page_content='possible. It can be difficult for users to access or remember since it might\\nappear outside the proximity of the user’s current focus.\\nPhysical disability\\nGive alternatives to skip links: Provide a way for skipping over long lists or long\\ncontent. Some users cannot reach the keyboard or mouse, so they could use\\nvoice controls to use your product.\\nClearly communicate error messages: Provide large links and clear messaging', metadata={'text': 'possible. It can be difficult for users to access or remember since it might\\nappear outside the proximity of the user’s current focus.\\nPhysical disability\\nGive alternatives to skip links: Provide a way for skipping over long lists or long\\ncontent. Some users cannot reach the keyboard or mouse, so they could use\\nvoice controls to use your product.\\nClearly communicate error messages: Provide large links and clear messaging'}),\n",
       " Document(page_content='to ensure that your pages support users in achieving a task. Make sure to4/29/24, 5:47 PM Accessible design is easier than you think | by Cintia Romero | Pinterest Design\\nhttps://pinterest.design/accessible-design-is-easier-than-you-think-29c1d3200d87 4/13provide clear instructions, especially when asking users to fill out forms. Learn\\nmore about error inputs best practices.\\nPrioritize content: Avoid long scrolling UIs or swiping, as some people use', metadata={'text': 'to ensure that your pages support users in achieving a task. Make sure to4/29/24, 5:47 PM Accessible design is easier than you think | by Cintia Romero | Pinterest Design\\nhttps://pinterest.design/accessible-design-is-easier-than-you-think-29c1d3200d87 4/13provide clear instructions, especially when asking users to fill out forms. Learn\\nmore about error inputs best practices.\\nPrioritize content: Avoid long scrolling UIs or swiping, as some people use'}),\n",
       " Document(page_content='another part of their body, such as foot, elbow, or mouth, to interact on their\\ndevice. In addition, long scrolling could be physically and mentally tiring for\\nsome.\\nDesign large tappable areas: It is best to enlarge the most critical interactions.\\nEnsure your touch targets are large enough for people with limited mobility to\\naccomplish a task accurately, especially on mobile.\\nKeep in mind: This article does not consider the needs of other disabilities not listed above.', metadata={'text': 'another part of their body, such as foot, elbow, or mouth, to interact on their\\ndevice. In addition, long scrolling could be physically and mentally tiring for\\nsome.\\nDesign large tappable areas: It is best to enlarge the most critical interactions.\\nEnsure your touch targets are large enough for people with limited mobility to\\naccomplish a task accurately, especially on mobile.\\nKeep in mind: This article does not consider the needs of other disabilities not listed above.'}),\n",
       " Document(page_content='For more resources and accessibility standards, I invite you to check out WCAG 2.1\\nStandards.\\nWant to learn more about accessibility at Pinterest?\\nAt Pinterest, we strive to create an inclusive product that brings inspiration to\\neveryone. Our design system team (Gestalt) made an Accessibility page, which I\\nstrongly recommend checking out and bringing the learnings to your team. We also\\nhave an Accessibility Design Deck to guide you in creating an accessible design.', metadata={'text': 'For more resources and accessibility standards, I invite you to check out WCAG 2.1\\nStandards.\\nWant to learn more about accessibility at Pinterest?\\nAt Pinterest, we strive to create an inclusive product that brings inspiration to\\neveryone. Our design system team (Gestalt) made an Accessibility page, which I\\nstrongly recommend checking out and bringing the learnings to your team. We also\\nhave an Accessibility Design Deck to guide you in creating an accessible design.'}),\n",
       " Document(page_content='Besides that, we have the PinAble community, committed to creating a welcoming,\\naccessible Pinterest experience by ensuring everyone can explore and achieve their\\nfull potential no matter their ability.Open in app\\nSearch2\\n4/29/24, 5:47 PM Accessible design is easier than you think | by Cintia Romero | Pinterest Design', metadata={'text': 'Besides that, we have the PinAble community, committed to creating a welcoming,\\naccessible Pinterest experience by ensuring everyone can explore and achieve their\\nfull potential no matter their ability.Open in app\\nSearch2\\n4/29/24, 5:47 PM Accessible design is easier than you think | by Cintia Romero | Pinterest Design'}),\n",
       " Document(page_content='https://pinterest.design/accessible-design-is-easier-than-you-think-29c1d3200d87 5/13An example from Pinterest’s Accessibility Design Deck showing that colors shouldn’t be the only status indicator.\\nCheck it out!\\nDesigning for accessibility is something that I’m learning every day, and it warms\\nmy heart. These guidelines have been a huge support in my journey. I urge you to\\nconsider accessibility as part of your design process and inspire others to create a\\nmore inclusive world.', metadata={'text': 'https://pinterest.design/accessible-design-is-easier-than-you-think-29c1d3200d87 5/13An example from Pinterest’s Accessibility Design Deck showing that colors shouldn’t be the only status indicator.\\nCheck it out!\\nDesigning for accessibility is something that I’m learning every day, and it warms\\nmy heart. These guidelines have been a huge support in my journey. I urge you to\\nconsider accessibility as part of your design process and inspire others to create a\\nmore inclusive world.'}),\n",
       " Document(page_content='Lastly, a big thank YOU for reading this!\\nTo learn more about design and research at Pinterest, check out the rest of Pinterest Design\\nand follow us on Twitter. To view and apply to open opportunities, visit our Careers page.\\nAccessible Design Accessibility Inclusive Design UX Design Design Process4/29/24, 5:47 PM Accessible design is easier than you think | by Cintia Romero | Pinterest Design\\nhttps://pinterest.design/accessible-design-is-easier-than-you-think-29c1d3200d87 6/13Follow', metadata={'text': 'Lastly, a big thank YOU for reading this!\\nTo learn more about design and research at Pinterest, check out the rest of Pinterest Design\\nand follow us on Twitter. To view and apply to open opportunities, visit our Careers page.\\nAccessible Design Accessibility Inclusive Design UX Design Design Process4/29/24, 5:47 PM Accessible design is easier than you think | by Cintia Romero | Pinterest Design\\nhttps://pinterest.design/accessible-design-is-easier-than-you-think-29c1d3200d87 6/13Follow'}),\n",
       " Document(page_content='Written by Cintia Romero\\n65 Followers·Writer for Pinterest Design\\nProduct Designer, fond of spreading good practices related to accessibility, diversity and inclusion. Co-\\nfounder and author @ UX Bridge.\\nMore from Cintia Romero and Pinterest Design\\nin\\nBaking accessibility into your everyday design process\\nLast week, I got this question twice: “When should I consider accessibility in my design\\nprocess?” This question made me want to write…\\n6 min read·Dec 1, 2021\\nCintia Romero UX Bridge', metadata={'text': 'Written by Cintia Romero\\n65 Followers·Writer for Pinterest Design\\nProduct Designer, fond of spreading good practices related to accessibility, diversity and inclusion. Co-\\nfounder and author @ UX Bridge.\\nMore from Cintia Romero and Pinterest Design\\nin\\nBaking accessibility into your everyday design process\\nLast week, I got this question twice: “When should I consider accessibility in my design\\nprocess?” This question made me want to write…\\n6 min read·Dec 1, 2021\\nCintia Romero UX Bridge'}),\n",
       " Document(page_content='270 24/29/24, 5:47 PM Accessible design is easier than you think | by Cintia Romero | Pinterest Design\\nhttps://pinterest.design/accessible-design-is-easier-than-you-think-29c1d3200d87 7/13in\\nThe science behind inspiration and how to design more of it into your life\\nPractical ways to nurture creative practices in the everyday.\\n8 min read·Nov 9, 2023\\nin\\nThe project that shifted my perspective as a designer\\nHow working on ads broadened my perspective and helped me grow as a product designer.', metadata={'text': '270 24/29/24, 5:47 PM Accessible design is easier than you think | by Cintia Romero | Pinterest Design\\nhttps://pinterest.design/accessible-design-is-easier-than-you-think-29c1d3200d87 7/13in\\nThe science behind inspiration and how to design more of it into your life\\nPractical ways to nurture creative practices in the everyday.\\n8 min read·Nov 9, 2023\\nin\\nThe project that shifted my perspective as a designer\\nHow working on ads broadened my perspective and helped me grow as a product designer.'}),\n",
       " Document(page_content='Minnie Bredouw Pinterest Design\\n3.9K 93\\nFrances Lee Pinterest Design4/29/24, 5:47 PM Accessible design is easier than you think | by Cintia Romero | Pinterest Design\\nhttps://pinterest.design/accessible-design-is-easier-than-you-think-29c1d3200d87 8/13See all from Cintia Romero\\nSee all from Pinterest Design\\nRecommended from Medium5 min read·4 days ago\\nin\\nWhat is quantitative user experience research at Pinterest?\\nHow I explain it to colleagues using a simple one-pager\\n3 min read·Jun 14, 202227', metadata={'text': 'Minnie Bredouw Pinterest Design\\n3.9K 93\\nFrances Lee Pinterest Design4/29/24, 5:47 PM Accessible design is easier than you think | by Cintia Romero | Pinterest Design\\nhttps://pinterest.design/accessible-design-is-easier-than-you-think-29c1d3200d87 8/13See all from Cintia Romero\\nSee all from Pinterest Design\\nRecommended from Medium5 min read·4 days ago\\nin\\nWhat is quantitative user experience research at Pinterest?\\nHow I explain it to colleagues using a simple one-pager\\n3 min read·Jun 14, 202227'}),\n",
       " Document(page_content='Kitty Z Xu Pinterest Design\\n257 34/29/24, 5:47 PM Accessible design is easier than you think | by Cintia Romero | Pinterest Design\\nhttps://pinterest.design/accessible-design-is-easier-than-you-think-29c1d3200d87 9/13in\\n7 Things Every Designer Needs to Know about Accessibility\\nAccessibility enables people with disabilities to perceive, understand, navigate, interact with\\nand contribute to the web.\\n14 min read·Apr 15, 2015\\nin\\nApproaching design systems on smaller teams', metadata={'text': 'Kitty Z Xu Pinterest Design\\n257 34/29/24, 5:47 PM Accessible design is easier than you think | by Cintia Romero | Pinterest Design\\nhttps://pinterest.design/accessible-design-is-easier-than-you-think-29c1d3200d87 9/13in\\n7 Things Every Designer Needs to Know about Accessibility\\nAccessibility enables people with disabilities to perceive, understand, navigate, interact with\\nand contribute to the web.\\n14 min read·Apr 15, 2015\\nin\\nApproaching design systems on smaller teams'}),\n",
       " Document(page_content='Jesse Hausler Salesforce Designer\\n12.7K 70\\nGabriela Rocha Pixelmatters4/29/24, 5:47 PM Accessible design is easier than you think | by Cintia Romero | Pinterest Design\\nhttps://pinterest.design/accessible-design-is-easier-than-you-think-29c1d3200d87 10/13Lists\\nIcon Design\\n36 stories·287 saves\\nInteresting Design Topics\\n257 stories·495 saves\\nBranding\\n34 stories·206 saves\\nVisual Storytellers Playlist', metadata={'text': 'Jesse Hausler Salesforce Designer\\n12.7K 70\\nGabriela Rocha Pixelmatters4/29/24, 5:47 PM Accessible design is easier than you think | by Cintia Romero | Pinterest Design\\nhttps://pinterest.design/accessible-design-is-easier-than-you-think-29c1d3200d87 10/13Lists\\nIcon Design\\n36 stories·287 saves\\nInteresting Design Topics\\n257 stories·495 saves\\nBranding\\n34 stories·206 saves\\nVisual Storytellers Playlist'}),\n",
       " Document(page_content='60 stories·294 savesMaintaining a Design System requires time, effort, and resources. Here’s an approach you can\\nhave in small to middle-sized teams.\\n7 min read·Apr 4, 2024\\nin\\nWords matter\\nOur approach to career progression and reward at Wise\\n10 min read·Mar 15, 2024\\n12\\nNikki Godley Wise Design\\n4/29/24, 5:47 PM Accessible design is easier than you think | by Cintia Romero | Pinterest Design\\nhttps://pinterest.design/accessible-design-is-easier-than-you-think-29c1d3200d87 11/13in', metadata={'text': '60 stories·294 savesMaintaining a Design System requires time, effort, and resources. Here’s an approach you can\\nhave in small to middle-sized teams.\\n7 min read·Apr 4, 2024\\nin\\nWords matter\\nOur approach to career progression and reward at Wise\\n10 min read·Mar 15, 2024\\n12\\nNikki Godley Wise Design\\n4/29/24, 5:47 PM Accessible design is easier than you think | by Cintia Romero | Pinterest Design\\nhttps://pinterest.design/accessible-design-is-easier-than-you-think-29c1d3200d87 11/13in'}),\n",
       " Document(page_content='90% of designers are unhirable?\\nOr why your cookie-cutter portfolio doesn’t cut it and how to fix it\\n13 min read·Mar 6, 2024\\n315\\nMatej Latin UX Collective\\n6.3K 774/29/24, 5:47 PM Accessible design is easier than you think | by Cintia Romero | Pinterest Design\\nhttps://pinterest.design/accessible-design-is-easier-than-you-think-29c1d3200d87 12/13See more recomme ndationsAccessibility\\nAs a born-deaf person with cochlear implant, accessibility is important to me because it is', metadata={'text': '90% of designers are unhirable?\\nOr why your cookie-cutter portfolio doesn’t cut it and how to fix it\\n13 min read·Mar 6, 2024\\n315\\nMatej Latin UX Collective\\n6.3K 774/29/24, 5:47 PM Accessible design is easier than you think | by Cintia Romero | Pinterest Design\\nhttps://pinterest.design/accessible-design-is-easier-than-you-think-29c1d3200d87 12/13See more recomme ndationsAccessibility\\nAs a born-deaf person with cochlear implant, accessibility is important to me because it is'}),\n",
       " Document(page_content='something that is very easily overlooked…\\n4 min read·Nov 28, 2023\\nDesigning for Health Inequalities\\nDesigning Healthcare • February 2024\\n6 min read·Feb 21, 2024\\nMiseok Kim\\n2\\nValentin Haack\\n74/29/24, 5:47 PM Accessible design is easier than you think | by Cintia Romero | Pinterest Design\\nhttps://pinterest.design/accessible-design-is-easier-than-you-think-29c1d3200d87 13/13', metadata={'text': 'something that is very easily overlooked…\\n4 min read·Nov 28, 2023\\nDesigning for Health Inequalities\\nDesigning Healthcare • February 2024\\n6 min read·Feb 21, 2024\\nMiseok Kim\\n2\\nValentin Haack\\n74/29/24, 5:47 PM Accessible design is easier than you think | by Cintia Romero | Pinterest Design\\nhttps://pinterest.design/accessible-design-is-easier-than-you-think-29c1d3200d87 13/13'})]"
      ]
     },
     "execution_count": 115,
     "metadata": {},
     "output_type": "execute_result"
    }
   ],
   "source": [
    "texts"
   ]
  },
  {
   "cell_type": "code",
   "execution_count": 120,
   "id": "792e54ca-10fb-4ff3-865b-b8c6c60c385e",
   "metadata": {},
   "outputs": [
    {
     "data": {
      "text/plain": [
       "'performance; instead, it helps the engineering team implement significant\\naccessibility standards in the earliest stages, encouraging good coding practices.\\nFixing an inaccessible product later may require extra effort, time and impact the\\nbusiness plans and deliverables.\\nI want to share easy-to-follow WCAG 2.1 design guidelines I use in my daily design\\nprocess when evaluating accessibility in my projects. I organized these guidelines by'"
      ]
     },
     "execution_count": 120,
     "metadata": {},
     "output_type": "execute_result"
    }
   ],
   "source": [
    "texts[5].page_content"
   ]
  },
  {
   "cell_type": "code",
   "execution_count": 87,
   "id": "0d877498-8160-45cd-87b9-b1d4981ce163",
   "metadata": {},
   "outputs": [],
   "source": [
    "embeddings = GoogleGenerativeAIEmbeddings(model=\"models/embedding-001\")"
   ]
  },
  {
   "cell_type": "code",
   "execution_count": 88,
   "id": "acd9c04e-8937-444b-a393-b5b149d8a193",
   "metadata": {},
   "outputs": [
    {
     "data": {
      "text/plain": [
       "GoogleGenerativeAIEmbeddings(model='models/embedding-001', task_type=None, google_api_key=None, credentials=None, client_options=None, transport=None, request_options=None)"
      ]
     },
     "execution_count": 88,
     "metadata": {},
     "output_type": "execute_result"
    }
   ],
   "source": [
    "embeddings"
   ]
  },
  {
   "cell_type": "code",
   "execution_count": 89,
   "id": "f8b863ba-acf6-4656-8131-e50ad369ea4f",
   "metadata": {
    "scrolled": true
   },
   "outputs": [
    {
     "name": "stdout",
     "output_type": "stream",
     "text": [
      "[0.03696355, -0.048819743, -0.071134, -0.000659496, 0.096602514, 0.025297236, 0.04581643, -0.0070661874, 0.002829002, 0.041267667, 0.055633888, 0.029038604, -0.046973612, 0.02533029, -0.008227784, -0.036708344, 0.03761857, 0.024367457, -0.012174477, -0.034076054, 0.039838426, 0.0008575216, -0.02729256, -0.012594638, 0.047864903, -0.0032034782, 0.008483473, -0.050146427, -0.03825963, 0.018665303, -0.05137839, 0.033277135, 0.024017477, -0.005128521, -0.020429695, -0.028645296, -0.008169635, -0.018580435, 0.03139887, 0.052537683, -0.012141003, -0.054011457, -0.048670255, 0.047711387, -0.012443699, -0.005845518, 0.00812543, 0.018928312, 0.003458731, -0.014729743, 0.01407957, -0.009320859, 0.049470797, -0.006506783, 0.008152698, -0.036389835, 0.014015797, -0.00837734, -0.041277733, 0.041430674, 0.012842301, 0.014836599, 0.021147886, 0.011722856, -0.018962584, -0.08296827, -0.048350587, 0.015909199, 0.034880966, 0.012065526, 0.013454056, -0.026599122, 0.051010944, -0.030010102, 0.022194711, -0.07981858, 0.016324673, 0.02727628, 0.0007573302, -0.016783701, -0.011184942, -0.062069833, -0.048922088, -0.015387145, -0.03923823, 0.03726212, -0.0277352, 0.013037791, 0.012265283, 0.043447807, -0.025389073, -0.036771644, 0.013902725, -0.044806723, -0.0082725035, 0.06819957, -0.019617176, -0.045010578, 0.0029022568, -0.031224348, 0.0029998887, -0.028634343, -0.08547231, 0.02223821, 0.023465611, 0.054938134, 0.020714518, 0.026893804, -0.0005176209, 0.055428654, -0.06821407, -0.016936366, -0.003182506, -0.0196479, 0.06465742, -0.042310487, 0.03172938, 0.068609536, 0.08812872, 0.040076025, 0.018944383, 0.045353234, 0.07961077, -0.0070474423, 0.00870975, -0.008380245, 0.0315027, 0.026568212, 0.06276818, 0.007958132, 0.018916156, -0.06312195, -0.04490361, 0.004177493, 0.029506987, 0.058100034, 0.04398459, -0.019794011, 0.045718964, -0.010999002, -0.014048072, 0.033516973, -0.033121727, 0.020376096, -0.028927546, 0.07457329, -0.0346805, -0.0014266628, 0.04373499, -0.0532432, 0.027553746, -0.010244035, -0.066992156, 0.02222849, 0.07809428, -0.0039571333, -0.0048641604, 0.0452233, 0.0017224011, 0.033069927, 0.031210864, -0.021784615, 0.017239166, 0.042020824, 0.030638384, -0.018920835, -0.00656155, -0.01481372, -0.011721763, 0.025367066, -0.036626037, 0.0046377275, -0.028603818, -0.04509777, 0.05346527, -0.074979365, 0.013850664, 0.0036865943, -0.05481344, -0.0019800314, 0.011389206, -0.06725314, 0.020946557, 0.040569667, 0.051999375, -0.06081014, 0.062957436, -0.0040904675, -0.0073259147, -0.017376745, -0.027173262, -0.009376863, -0.03980194, 0.00835008, -0.020309951, 0.08348786, 0.02923015, -0.027659083, -0.0007050231, -0.057882868, 0.02890517, 0.055836502, 0.026045028, 0.004348349, 0.045148794, 0.014338124, 0.11233015, -0.021331439, -0.065146364, 0.02326459, -0.026229793, 0.014991785, 0.00068180467, 0.011025216, 0.056399275, 0.02261892, 0.005689311, -0.010243316, -0.028287064, -0.047748704, -0.035905942, -0.00049590744, -0.056235444, -0.0074101384, -0.047199696, 0.062108804, -0.032403775, 0.016869986, 0.010906235, -0.029477619, 0.009952666, 0.09221111, 0.034748327, -0.02744369, 0.07765023, 0.012813898, 0.011706897, 0.013269524, 0.029602718, 0.041722048, -0.06051078, -0.0058642095, 0.038645983, 9.2347465e-05, -0.045591924, -0.027433757, -0.042522524, 0.040190518, -0.009610603, 0.011165905, -0.00318027, -0.041235738, 0.02091772, -0.004398574, -0.06409376, 0.027127586, -0.09160895, 0.025710477, -0.06420453, 0.0035835702, 0.035989296, -0.025170872, -0.010409595, -0.01284789, -0.03883542, -0.019329494, -0.0014169011, -0.035075955, -0.008233559, 0.066032685, 0.011553638, -0.09188746, 0.03701386, 0.023133801, 0.032572843, 0.053938106, 0.032383487, 0.029253514, 0.018974809, -0.022228422, 0.012636929, 0.03124225, 0.028691523, 0.01907787, -0.011619221, -0.031767044, -0.039775558, -0.0036165228, -0.016191432, -0.04187041, -0.059225377, -0.04709995, -0.021074837, -0.0662912, -0.01842741, 0.032777414, 0.0065178648, 0.02377079, 0.022028368, -0.010168863, -0.014464184, -0.0860786, -0.01628888, -0.11086167, 0.030620037, -0.037589837, -0.023967661, -0.020922272, -0.012829818, 0.026909102, 0.05326889, -0.032985494, 0.0023423068, 0.013244426, 0.03942361, 0.059754346, 0.0015155893, 0.002738915, -0.04586449, 0.070400394, 0.0011067466, 0.09876, 0.041038416, 0.018573811, -0.008669989, 0.028008353, -0.002680334, -0.013374414, 0.0058078854, 0.008996376, -0.021949183, -0.005798629, -0.032401938, 0.008583822, -0.005284934, 0.03408614, -0.04608925, 0.027077101, -0.037284672, 0.0396899, 0.026492521, 0.026122805, -0.014539595, -0.035016343, 0.00648083, 0.027798664, -0.07449496, -0.026632966, 0.041687205, 0.046110593, -0.056514498, 0.06078713, -0.018619642, 0.0145469215, 0.00127779, -0.022810953, 0.050160825, -0.035707697, 0.055726886, 0.004096311, 0.0077979714, 0.009523109, -0.020483462, 0.012276981, -0.025814842, -0.018566197, -0.03004338, 0.012341737, -0.004371371, 0.062404986, 0.035424348, 0.0049485913, 0.029066812, -0.05172717, 0.028753133, 0.006915859, -0.004139792, -0.027822305, 0.019299554, -0.012682084, -0.0072956365, -0.017503988, 0.038274527, -0.019233044, 0.019297171, -0.041002057, 0.047145765, 0.035097778, -0.048972063, 0.044785768, -0.059301976, -0.019437378, 0.09805003, 0.014166209, -0.010124259, -0.03959384, 0.0013241236, -0.020628931, 0.027370108, 3.4745895e-05, -0.04801063, -0.04753063, -0.015511498, -0.003827447, -0.022558847, 0.01851949, 0.005913937, -0.012180747, -0.027234314, 0.00595354, 0.010210185, 0.009972879, 0.0064924974, -0.05519877, -0.036321007, 0.0010690142, 0.0491, -0.030321242, 0.020768465, -0.03719995, -0.016982514, -0.026167061, 0.010953462, -0.0019429616, -0.045747876, -0.06492127, 0.042294595, 0.004528348, -0.0026825164, 0.05842876, 0.00081412157, -0.018083949, 0.009720971, -0.03835866, 0.018913709, -0.059016477, -0.0116461245, 0.07237089, -0.021656794, 0.040594745, 0.02454861, -0.0061820913, 0.014689031, -0.001505043, -0.041515976, -0.014729352, -0.03620891, -0.007068062, 0.011494553, -0.08237722, 0.04655412, -0.041468415, -0.06639059, -0.05457691, -0.02779223, -0.02752911, 0.0066868737, 0.034166727, 0.0013801337, -0.017706871, 0.017324619, -0.03969697, -0.027895305, -0.110618345, 0.041946813, 0.0015945164, 0.038277972, -0.012789023, -0.024195194, 0.03956864, -0.01209187, -0.0013283958, -0.009730526, -0.015677439, -0.030948747, -0.02083141, -0.055021383, 0.034643125, -0.046110265, -0.034370147, 0.02066014, 0.02452425, 0.01533055, 0.018728958, -0.04404032, -0.021823755, 0.026959747, -0.025042394, -0.027832588, 0.059385583, 0.021549208, -0.036933217, -0.01668386, -0.064103514, 0.01722303, -0.015089349, -0.04190264, 0.023212127, 0.053124547, -0.050449762, 0.0027147997, -0.01847987, -0.024524717, -0.008656695, 0.069272704, -0.05857155, 0.015221464, 0.03071974, -0.023020556, 0.006999197, 0.052465357, 0.009721515, -0.022895379, -0.010201803, 0.009410359, -0.009602317, 0.0014571736, 0.038619217, -0.002932693, 0.041931078, -0.011727033, 0.0113465, -0.05719921, -0.03377731, 0.016001005, -0.011830742, 0.009958614, 0.0361522, -0.05313837, 0.013585, -0.017760137, 0.07244985, -0.055339452, -0.045668364, 0.017345937, -0.041050185, 0.013831539, -0.012707172, -0.017809035, 0.035031892, -0.013346393, 0.0019149411, 0.017498061, 0.030804718, -0.008767546, -0.015983745, 0.028509377, -0.06999256, -0.0015168907, -0.004854645, 0.0039985785, -0.00038603877, 0.018023226, -0.023602229, 0.037385408, -0.016091015, -0.010494234, -0.0015226277, -0.015218447, -0.01552339, 0.0026005206, 0.07604159, -0.0056657754, 0.037066657, 0.03914279, 0.01577235, -0.010663143, -0.081316374, 0.08654434, -0.05386985, 0.0051944386, -0.0080247745, -0.034018908, -0.025693571, 0.016732506, 0.0063228006, -0.07571954, -0.009413991, -0.025152901, 0.027250124, 0.09088838, -0.012465527, 0.005535021, 0.053944867, -0.062951475, -0.029232515, 0.03815316, 0.0020679624, 0.031235991, 0.024215838, -0.06904124, 0.037375826, -0.022744786, -0.009352192, 0.023137698, 0.00084596203, 0.015756434, -0.0331719, -0.020126414, -0.011095557, 0.038630575, -0.081307076, 0.020623403, -0.042736497, 0.023005133, 0.0108683435, -0.011366049, 0.0032615664, 0.0013999164, 0.054320127, -0.0383527, -0.058176637, -0.035192072, -0.027356751, -0.031804956, -0.022787787, 0.03205515, -0.019458152, -0.039051205, -0.040332083, -0.00011732121, 0.017935714, 0.00633343, 0.029992253, 0.007728261, 0.022214651, -0.019286832, -0.029478502, 0.066191964, 0.047637988, 0.046766497, 0.07978617, -0.034895632, -0.019639725, -0.028700223, -0.02545595, -0.026574235, 0.035723552, 0.01737014, 0.023370592, -0.041338123, -0.0046809395, 0.0057386314, 0.0061776545, 0.0051372726, 0.08735246, 0.031427238, -0.087872975, -0.088302545, -0.017160699, -0.040484615, 0.014886276, 0.016810415, -0.0004908181, 0.016312279, 0.001837518, -0.024425, -0.04809538, 0.015553645, 0.01867042, -0.029000018, -0.02159942, -0.01704213, 0.0053462517, -0.005040708, -0.00040539337, -0.03830724, -0.06983271, 0.0095080575, 0.048266508, -0.0424787, 0.007842856, 0.013528464, -0.026685318, 0.0016629426, -0.0107695805, -0.006073943, 0.051819693, 0.014011376, -0.017404376, 0.009320121, -0.033740114, -0.048187256, 0.032208502, -0.038471032, 0.018763931, 0.024761537, 0.009804511, 0.0031630953, -0.029556792, 0.04926262, -0.041070253, 0.010487688, 0.00405726, 0.035106562, 0.0031624096, -0.03202222, -0.0028335843, 0.028842006, 0.04070672, 0.005484618, -0.034423344, -0.010122326, 0.040484, 0.047681525, -0.022202263, -0.00994842, 0.044560302, 0.008902455, 0.060822632, 0.045787293, -0.037913818, -0.014712717, 0.016306974, 0.010522022, -0.037073296, -0.026798462, 0.05165201, -0.012219938, 0.053938314, 0.054862093, 0.007162491, 0.02408635, -0.053504128, -0.05773302, 0.05756454, -0.06759313, 0.028464181, -0.051134348, 0.011000071, 0.06847058, 0.007966574, -0.022021186, -0.00410136, -0.023848748, 0.075637, 0.036904708, 0.04459782, -0.01197076, -0.073858395, -0.03633718, 0.006574963, -0.048189647, 0.061051, 0.022785978, -0.02943953, -0.014400263, -0.005308024, -0.023906687, -0.014035372, -0.040855866, -0.035080943, -0.050492726, 0.052941814, 0.019457681, 0.026056172, 0.0064842463, -0.017592276, 0.0055040363, 0.022265214, -0.034977153, 0.029032461, -0.008063675, -0.02817284, 0.019553132, 0.04183323, -0.009630743, 0.027895596]\n"
     ]
    }
   ],
   "source": [
    "# Test embeddings\n",
    "query_result = embeddings.embed_query(texts[0].page_content)\n",
    "print(query_result)\n",
    "     "
   ]
  },
  {
   "cell_type": "code",
   "execution_count": 90,
   "id": "7c44ac59-a352-46f2-86fa-f6c672d7782a",
   "metadata": {},
   "outputs": [],
   "source": [
    "# os.environ['PINECONE_API_KEY'] = \"\""
   ]
  },
  {
   "cell_type": "code",
   "execution_count": 91,
   "id": "e1232b3b-97cb-4715-ae12-8fed8bbd0481",
   "metadata": {},
   "outputs": [],
   "source": [
    "pc = Pinecone(api_key=str(os.getenv('PINECONE_API_KEY')).strip(\"\\\"\"))"
   ]
  },
  {
   "cell_type": "code",
   "execution_count": 92,
   "id": "ed0db555-ea2d-458d-b187-22a03c85e27b",
   "metadata": {},
   "outputs": [],
   "source": [
    "pc.create_index(\n",
    "    name=par__vector_store_index_name,\n",
    "    dimension=768, # Replace with your model dimensions\n",
    "    metric=\"euclidean\", # Replace with your model metric\n",
    "    spec=ServerlessSpec(\n",
    "        cloud=\"aws\",\n",
    "        region=\"us-east-1\"\n",
    "    ) \n",
    ")"
   ]
  },
  {
   "cell_type": "code",
   "execution_count": 93,
   "id": "a26c4bf7-0dc4-4960-821e-c6db973f56fa",
   "metadata": {
    "scrolled": true
   },
   "outputs": [],
   "source": [
    "# Upload vectors to Pinecone\n",
    "index_name = par__vector_store_index_name\n",
    "# search = Pinecone.from_documents(texts, embeddings, index_name=index_name)\n",
    "\n",
    "vectorstore_from_docs = PineconeVectorStore.from_documents(\n",
    "        texts,\n",
    "        index_name=index_name,\n",
    "        embedding=embeddings\n",
    "    )"
   ]
  },
  {
   "cell_type": "code",
   "execution_count": 95,
   "id": "799288df-12c3-404f-a142-ed1fb4da24a4",
   "metadata": {},
   "outputs": [
    {
     "name": "stdout",
     "output_type": "stream",
     "text": [
      "[Document(page_content='Besides that, we have the PinAble community, committed to creating a welcoming,\\naccessible Pinterest experience by ensuring everyone can explore and achieve their\\nfull potential no matter their ability.Open in app\\nSearch2\\n4/29/24, 5:47 PM Accessible design is easier than you think | by Cintia Romero | Pinterest Design'), Document(page_content='Accessible design is easier than you think\\nEasy-to-follow guidelines can make accessibility part of your everyday design\\nprocess\\nCintia Romero·Follow\\nPublished inPinterest Design\\n5 min read·Oct 27, 2021\\nListen Share More\\nAssistive device | Photo by Sigmund on UnsplashGet unlimited access to the best of Medium for less than $1/week.Become a member\\n4/29/24, 5:47 PM Accessible design is easier than you think | by Cintia Romero | Pinterest Design'), Document(page_content='icons to support your use case. Color-only variations do not work well for those\\nwho may be color blind or have vision impairments.\\nAccount for zooming: Make sure designs can scale when users increase page\\nelement sizes. For example, does your design still work when zoomed in 200%?4/29/24, 5:47 PM Accessible design is easier than you think | by Cintia Romero | Pinterest Design\\nhttps://pinterest.design/accessible-design-is-easier-than-you-think-29c1d3200d87 3/13Hearing disability'), Document(page_content='90% of designers are unhirable?\\nOr why your cookie-cutter portfolio doesn’t cut it and how to fix it\\n13 min read·Mar 6, 2024\\n315\\nMatej Latin UX Collective\\n6.3K 774/29/24, 5:47 PM Accessible design is easier than you think | by Cintia Romero | Pinterest Design\\nhttps://pinterest.design/accessible-design-is-easier-than-you-think-29c1d3200d87 12/13See more recomme ndationsAccessibility\\nAs a born-deaf person with cochlear implant, accessibility is important to me because it is')]\n"
     ]
    }
   ],
   "source": [
    "# Do a simple vector similarity search\n",
    "\n",
    "query = \"Hearing\"\n",
    "result = vectorstore_from_docs.similarity_search(query)\n",
    "\n",
    "print(result)"
   ]
  },
  {
   "cell_type": "markdown",
   "id": "96ede0cc-8df4-470f-ab38-866bbe08917f",
   "metadata": {},
   "source": [
    "## LLM"
   ]
  },
  {
   "cell_type": "code",
   "execution_count": 30,
   "id": "76c3457f-b8a2-4c65-b58c-03f074314562",
   "metadata": {},
   "outputs": [],
   "source": [
    "genai.configure(api_key=os.environ.get(\"GOOGLE_API_KEY\"))"
   ]
  },
  {
   "cell_type": "code",
   "execution_count": 31,
   "id": "aa0f5b68-2a7a-4d1e-9647-f359a933c30d",
   "metadata": {
    "scrolled": true
   },
   "outputs": [],
   "source": [
    "model = ChatGoogleGenerativeAI(model=\"gemini-pro\",\n",
    "                             temperature=0.3)"
   ]
  },
  {
   "cell_type": "code",
   "execution_count": 32,
   "id": "cf63e04f-1420-4291-824d-5d1a309c3d7b",
   "metadata": {
    "scrolled": true
   },
   "outputs": [
    {
     "data": {
      "text/plain": [
       "ChatGoogleGenerativeAI(model='gemini-pro', temperature=0.3, client=genai.GenerativeModel(\n",
       "    model_name='models/gemini-pro',\n",
       "    generation_config={},\n",
       "    safety_settings={},\n",
       "    tools=None,\n",
       "    system_instruction=None,\n",
       "))"
      ]
     },
     "execution_count": 32,
     "metadata": {},
     "output_type": "execute_result"
    }
   ],
   "source": [
    "model"
   ]
  },
  {
   "cell_type": "code",
   "execution_count": 96,
   "id": "9d7abe27-0bf6-4d59-a53e-ce1358d4df71",
   "metadata": {},
   "outputs": [
    {
     "name": "stdout",
     "output_type": "stream",
     "text": [
      "The total words in the context:  12939\n"
     ]
    }
   ],
   "source": [
    "context = \"\\n\".join(str(p.page_content) for p in texts)\n",
    "print(\"The total words in the context: \", len(context))"
   ]
  },
  {
   "cell_type": "code",
   "execution_count": 97,
   "id": "f96f4e48-8058-4122-8e5a-b238b23482d1",
   "metadata": {},
   "outputs": [],
   "source": [
    "prompt_template = \"\"\"Answer the question as precise as possible using the provided context. If the answer is\n",
    "                    not contained in the context, say \"Answer not available in context\" \\n\\n\n",
    "                    Context: \\n {context}?\\n\n",
    "                    Question: \\n {input} \\n\n",
    "                    Answer:\n",
    "                  \"\"\"\n",
    "\n",
    "prompt = PromptTemplate(\n",
    "    template=prompt_template, input_variables=[\"context\", \"input\"]\n",
    ")"
   ]
  },
  {
   "cell_type": "code",
   "execution_count": 44,
   "id": "8d99dcd8-904e-4f8d-9d31-51e94b0b53ce",
   "metadata": {},
   "outputs": [],
   "source": [
    "retriever = vectorstore_from_docs.as_retriever()"
   ]
  },
  {
   "cell_type": "code",
   "execution_count": 45,
   "id": "c92fbdb9-6ddd-4330-9a8a-d4b67e1d005f",
   "metadata": {},
   "outputs": [],
   "source": [
    "combine_docs_chain = create_stuff_documents_chain(\n",
    "    model\n",
    "    ,prompt\n",
    ")"
   ]
  },
  {
   "cell_type": "code",
   "execution_count": 46,
   "id": "bf734129-636a-4d82-830f-4537b13071dc",
   "metadata": {},
   "outputs": [],
   "source": [
    "retrieval_chain = create_retrieval_chain(retriever, combine_docs_chain)"
   ]
  },
  {
   "cell_type": "code",
   "execution_count": 114,
   "id": "de98ba5c-db53-404b-9243-3700359e7896",
   "metadata": {},
   "outputs": [
    {
     "name": "stdout",
     "output_type": "stream",
     "text": [
      "{'input': 'What kinds of disability the article is about?', 'context': [Document(page_content='each disability type to simplify understanding and help you reach out to more users4/29/24, 5:47 PM Accessible design is easier than you think | by Cintia Romero | Pinterest Design\\nhttps://pinterest.design/accessible-design-is-easier-than-you-think-29c1d3200d87 2/13by considering accessibility. In addition, they are easy to fit in your design process\\nbandwidth.\\nIn general, designing accessible products doesn’t\\ndelay deliveries or impact team performance;'), Document(page_content='possible. It can be difficult for users to access or remember since it might\\nappear outside the proximity of the user’s current focus.\\nPhysical disability\\nGive alternatives to skip links: Provide a way for skipping over long lists or long\\ncontent. Some users cannot reach the keyboard or mouse, so they could use\\nvoice controls to use your product.\\nClearly communicate error messages: Provide large links and clear messaging'), Document(page_content='Besides that, we have the PinAble community, committed to creating a welcoming,\\naccessible Pinterest experience by ensuring everyone can explore and achieve their\\nfull potential no matter their ability.Open in app\\nSearch2\\n4/29/24, 5:47 PM Accessible design is easier than you think | by Cintia Romero | Pinterest Design'), Document(page_content='icons to support your use case. Color-only variations do not work well for those\\nwho may be color blind or have vision impairments.\\nAccount for zooming: Make sure designs can scale when users increase page\\nelement sizes. For example, does your design still work when zoomed in 200%?4/29/24, 5:47 PM Accessible design is easier than you think | by Cintia Romero | Pinterest Design\\nhttps://pinterest.design/accessible-design-is-easier-than-you-think-29c1d3200d87 3/13Hearing disability')], 'answer': 'Physical disability and Hearing disability'}\n"
     ]
    },
    {
     "data": {
      "text/markdown": [
       "> Physical disability and Hearing disability"
      ],
      "text/plain": [
       "<IPython.core.display.Markdown object>"
      ]
     },
     "execution_count": 114,
     "metadata": {},
     "output_type": "execute_result"
    }
   ],
   "source": [
    "question = \"How to support hearing disability?\"\n",
    "# question = \"How to support cognitive disability?\"\n",
    "question = \"What is the benefit of designing accessible products?\"\n",
    "question = \"What kinds of disability the article is about?\"\n",
    "# question = \"How clear hierarchy can help?\"\n",
    "# question = \"Does accessibility impact delay deliveries?\"\n",
    "# question = \"Give me practical guidelines regarding disabilities.\"\n",
    "retrieval_chain.invoke({\"input\": question})\n",
    "\n",
    "stuff_answer = retrieval_chain.invoke({\"input\": question})\n",
    "if par__verbose_mode : print(stuff_answer) \n",
    "to_markdown(stuff_answer[\"answer\"])"
   ]
  },
  {
   "cell_type": "markdown",
   "id": "3fcc112b-4d5d-4368-95d8-c0ad5e97606f",
   "metadata": {},
   "source": [
    "---\n",
    "# End."
   ]
  }
 ],
 "metadata": {
  "kernelspec": {
   "display_name": "Python 3 (ipykernel)",
   "language": "python",
   "name": "python3"
  },
  "language_info": {
   "codemirror_mode": {
    "name": "ipython",
    "version": 3
   },
   "file_extension": ".py",
   "mimetype": "text/x-python",
   "name": "python",
   "nbconvert_exporter": "python",
   "pygments_lexer": "ipython3",
   "version": "3.11.9"
  }
 },
 "nbformat": 4,
 "nbformat_minor": 5
}
