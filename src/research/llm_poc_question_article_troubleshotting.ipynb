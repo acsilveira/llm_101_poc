{
 "cells": [
  {
   "cell_type": "markdown",
   "id": "9839a4c1-0d37-4cc0-8f39-6efd77f093e6",
   "metadata": {},
   "source": [
    "# LLM 101 PoC\n",
    "\n",
    "Goal: Ask a question about an article, and LLM+LangChain+VectorStore will answer based on the article."
   ]
  },
  {
   "cell_type": "markdown",
   "id": "16775c25-dfe1-422f-ba95-c5794ec19e2f",
   "metadata": {},
   "source": [
    "# Installs"
   ]
  },
  {
   "cell_type": "code",
   "execution_count": 1,
   "id": "541d3120-3308-47db-8651-f1f660389dc2",
   "metadata": {},
   "outputs": [],
   "source": [
    "# !pip install -q --upgrade google-generativeai"
   ]
  },
  {
   "cell_type": "code",
   "execution_count": 2,
   "id": "7e402d0b-ea7a-4d52-9fa8-4a276c9e9170",
   "metadata": {
    "scrolled": true
   },
   "outputs": [],
   "source": [
    "# !pip install langchain-google-genai"
   ]
  },
  {
   "cell_type": "code",
   "execution_count": 3,
   "id": "389a16cf-6540-47a5-8733-72c8e2f9e942",
   "metadata": {},
   "outputs": [],
   "source": [
    "# !pip install python-dotenv"
   ]
  },
  {
   "cell_type": "code",
   "execution_count": 4,
   "id": "66f3185f-8b0a-4fe6-b1b3-7159b31a719e",
   "metadata": {},
   "outputs": [],
   "source": [
    "# !pip install langchain_pinecone"
   ]
  },
  {
   "cell_type": "markdown",
   "id": "be6cedcf-ae65-46a9-a718-0ff0949867ff",
   "metadata": {},
   "source": [
    "# Library"
   ]
  },
  {
   "cell_type": "code",
   "execution_count": 1,
   "id": "2d567235-b004-4e61-b623-125a78bab33d",
   "metadata": {},
   "outputs": [],
   "source": [
    "# import google.generativeai as genai\n",
    "# import os\n",
    "\n",
    "# from dotenv import load_dotenv\n",
    "# from IPython.display import display\n",
    "# from IPython.display import Markdown\n",
    "# import textwrap\n",
    "# from langchain_google_genai import ChatGoogleGenerativeAI\n",
    "# from langchain import PromptTemplate\n",
    "# from langchain.chains import LLMChain\n",
    "# from langchain.chains import SimpleSequentialChain\n",
    "# import requests\n",
    "# from bs4 import BeautifulSoup\n",
    "# import re\n",
    "# from langchain.text_splitter import RecursiveCharacterTextSplitter\n",
    "# from langchain_google_genai import GoogleGenerativeAIEmbeddings\n",
    "# from langchain_pinecone import PineconeVectorStore\n",
    "# from pinecone import Pinecone, ServerlessSpec\n",
    "# from langchain.chains.question_answering import load_qa_chain\n",
    "# from pprint import pprint\n",
    "\n",
    "\n",
    "# --- From app code\n",
    "import google.generativeai as genai\n",
    "import os\n",
    "from dotenv import load_dotenv\n",
    "from langchain.text_splitter import RecursiveCharacterTextSplitter\n",
    "from pinecone import Pinecone\n",
    "from pprint import pprint\n",
    "import utils as toolkit\n",
    "import time\n",
    "\n",
    "# --- Testing new ways\n",
    "# from langchain_text_splitters import HTMLHeaderTextSplitter\n"
   ]
  },
  {
   "cell_type": "code",
   "execution_count": 2,
   "id": "a79eafbb-2c27-40ce-959e-cb66cb0e1ba2",
   "metadata": {},
   "outputs": [],
   "source": [
    "# --- Functions from app code\n",
    "import utils as toolkit\n",
    "\n",
    "utils = toolkit.UtilsLLM()\n",
    "\n",
    "# def split_text_into_chunks(pdf_raw_text_content):\n",
    "#     text_splitter = RecursiveCharacterTextSplitter(chunk_size=500, chunk_overlap=20,)\n",
    "#     chunks = text_splitter.create_documents([pdf_raw_text_content])\n",
    "\n",
    "#     return chunks, \"Text splitted into chunks with success.\"\n",
    "\n",
    "def split_documents_into_chunks(documents_content, parr_chunk_size=5000, parr_chunk_overlap=200):\n",
    "        try:\n",
    "            text_splitter = RecursiveCharacterTextSplitter(chunk_size=parr_chunk_size, chunk_overlap=parr_chunk_overlap)\n",
    "            chunks = text_splitter.split_documents(documents_content)\n",
    "            return chunks, \"Documents splitted into chunks with success.\"\n",
    "        except Exception as e:\n",
    "            raise e\n",
    "        return None, \"Failedd splitting documents in chunks\""
   ]
  },
  {
   "cell_type": "markdown",
   "id": "d5b6abc5-5c1f-48bd-b8fd-c90028ca66ce",
   "metadata": {},
   "source": [
    "# Parameters"
   ]
  },
  {
   "cell_type": "code",
   "execution_count": 3,
   "id": "819781bc-ea9b-48d2-b30e-eac9c2838b13",
   "metadata": {},
   "outputs": [],
   "source": [
    "import parameters as general_parameters"
   ]
  },
  {
   "cell_type": "markdown",
   "id": "e7e29b4f-cb94-4059-a553-2ab782e75a8d",
   "metadata": {},
   "source": [
    "# Authentication"
   ]
  },
  {
   "cell_type": "markdown",
   "id": "0e821f1d-9f66-41d2-a4b3-92ba9e62c0c1",
   "metadata": {},
   "source": [
    "## Setting API key"
   ]
  },
  {
   "cell_type": "code",
   "execution_count": 4,
   "id": "97cfff3b-27f7-49d3-8c9d-fe702d974c2c",
   "metadata": {},
   "outputs": [
    {
     "name": "stdout",
     "output_type": "stream",
     "text": [
      ">>Starting...\n"
     ]
    }
   ],
   "source": [
    "utils.log(\"Starting...\")"
   ]
  },
  {
   "cell_type": "code",
   "execution_count": 5,
   "id": "e46afeeb-7afa-4c74-9bda-1015259a2b40",
   "metadata": {},
   "outputs": [
    {
     "name": "stdout",
     "output_type": "stream",
     "text": [
      ">>True\n"
     ]
    }
   ],
   "source": [
    "# --- Authentication\n",
    "utils.log(load_dotenv())  # Check env_vars\n",
    "genai.configure(api_key=os.environ.get(\"GOOGLE_API_KEY\"))  # Auth Google\n",
    "pc = Pinecone(\n",
    "    api_key=str(os.getenv(\"PINECONE_API_KEY\")).strip('\"')\n",
    ")  # Auth Pinecone"
   ]
  },
  {
   "cell_type": "code",
   "execution_count": 6,
   "id": "4bbc5118-7d44-4bc7-91fa-d749a36e9ee1",
   "metadata": {},
   "outputs": [
    {
     "name": "stdout",
     "output_type": "stream",
     "text": [
      ">>Succeed getting text from URL https://staffeng.com/guides/staff-archetypes/ and splitting in HTML headers\n"
     ]
    }
   ],
   "source": [
    "# Get text content from PDF\n",
    "# text_content = utils.read_pdf(self.pdf_file_ref)\n",
    "text_content, log_msg = utils.get_text_from_web_article_parsing_htmlLangChain(\"https://staffeng.com/guides/staff-archetypes/\")\n",
    "utils.log(log_msg)"
   ]
  },
  {
   "cell_type": "code",
   "execution_count": 7,
   "id": "87207181-c8d4-48bd-9f06-fc47bc87d450",
   "metadata": {
    "scrolled": true
   },
   "outputs": [
    {
     "data": {
      "text/plain": [
       "[Document(page_content='© Will Larson, 2023. About. FAQ. RSS. Edit on GitHub.  \\nStaffEng'),\n",
       " Document(page_content='StoriesGuidesSubscribeBookPodcast', metadata={'Header 2': 'StaffEng'}),\n",
       " Document(page_content='Guides / Staff archetypes'),\n",
       " Document(page_content='Tech Lead Architect Solver Right Hand Which is right for you?  \\nMost career ladders define a single, uniform set of expectations for Staff engineers operating within the company. Everyone benefits from clear role expectations, but career ladders are a tool that applies better against populations than people. This is particularly true for Staff-plus engineers, whose career ladders often paper over several distinct roles hidden behind a single moniker.  \\nThe more folks I spoke with about the role of Staff-plus engineers at their company, the better their experiences began to cluster into four distinct patterns. Most companies emphasized one or two of the patterns, and one pattern only existed in companies with many hundreds or thousands of engineers. A few companies didn\\'t feature any technical leadership pattern and pushed all their experienced engineers towards engineering management. In literature, recurring character patterns are called archetypes, such as the \"hero\" or the \"trickster,\" and the archetype term is helpful for labeling these frequent variants of Staff-plus engineers.  \\nThe four common archetypes of Staff-plus roles I encountered are:  \\nThe Tech Lead guides the approach and execution of a particular team. They partner closely with a single manager, but sometimes they partner with two or three managers within a focused area. Some companies also have a Tech Lead Manager role, which is similar to the Tech Lead archetype but exists on the engineering manager ladder and includes people management responsibilities. The Architect is responsible for the direction, quality, and approach within a critical area. They combine in-depth knowledge of technical constraints, user needs, and organization level leadership. The Solver digs deep into arbitrarily complex problems and finds an appropriate path forward. Some focus on a given area for long periods. Others bounce from hotspot to hotspot as guided by organizational leadership. The Right Hand extends an executive\\'s attention, borrowing their scope and authority to operate particularly complex organizations. They provide additional leadership bandwidth to leaders of large-scale organizations.  \\nThis taxonomy is more focused on being useful than complete, but so far, I\\'ve been able to fit every Staff-plus engineer I\\'ve spoken to into one of these categories. Admittedly, some folks are easier to classify than others.', metadata={'Header 4': 'Guides / Staff archetypes'}),\n",
       " Document(page_content=\"Stories featuring Tech Lead archetype: Diana Pojar, Dan Na, Ritu Vincent  \\nTech Leads are the most common Staff archetype and lead one team or a cluster of teams in their approach and execution. They're comfortable scoping complex tasks, coordinating their team towards solving them, and unblocking them along the way. Tech Leads often carry the team's context and maintain many of the essential cross-team and cross-functional relationships necessary for the team's success. They're a close partner to the team's product manager and the first person called when the roadmap needs to be shuffled.  \\nEarlier in their career, they will have implemented their team's most complex technical projects, but at this point, they default to delegating such projects across the team. They do this both to grow their teammates and in acknowledgment that the team's impact grows as the Tech Lead's coding blocks shrink. While they're coding less, they are still the person defining their team's technical vision, and stepping in to build alignment within the team on complex issues.  \\nThe Tech Lead role is, for many folks, their first experience as a Staff engineer. A few forces conspire towards that result. First, the Tech Lead role tends to develop early on within companies that have a strong concept of team, which is common among companies using agile methodologies, and most companies attempt an agile approach at some point. Another factor is that the day-to-day work of a Tech Lead is most similar to the work you'd already be doing as a Senior engineer, making it a fairly intuitive transition. Most importantly, an organization needs roughly one Tech Lead for every eight engineers, making it far more common than other archetypes.  \\nSomewhat confusingly, some companies use Tech Lead as a title, and others use it as a role. In this list of archetypes, the Tech Lead is one approach to operating as a Staff engineer, but it's quite common to perform the Tech Lead role without having the impact expected of a Staff-level engineer. Indeed, you'll find non-Staff engineers acting with the behaviors of every archetype. Being a Staff-engineer is not just a role. It's the intersection of the role, your behaviors, your impact, and the organization's recognition of all those things.\", metadata={'Header 4': 'Guides / Staff archetypes', 'Header 2': 'Tech Lead'}),\n",
       " Document(page_content=\"Stories featuring Architect archetype: Joy Ebertz, Katie Sylor-Miller, Keavy McMinn  \\nThe Architect title has fallen out of style in many companies, but the Architect role remains alive and well for folks operating at Staff-plus levels. Architects are responsible for the success of a specific technical domain within their company, for example, the company's API design, frontend stack, storage strategy, or cloud infrastructure. For a domain to merit an Architect, it must be both complex and enduringly central to the company's success.  \\nThere is a toxic preconception that Architects design systems in isolation and then pass their designs to others to implement. That does happen in some cases, but reciting that stereotype would slander the architects I interviewed. Influential architects dedicate their energy to maintaining an intimate understanding of the business' needs, their users' goals, and the relevant technical constraints. They use that insight to identify and advocate for effective approaches within their area of focus, and do it with organizational authority that they've earned by demonstrating consistently good judgment.  \\nThe Architect role tends to evolve in relatively large companies, companies with exceptionally complex or coupled codebases, and companies that are struggling to repay the technical debt they created in their initial sprint to product-market fit. Some companies push for Architects to remain deep in the codebase, and others set a clear expectation that Architects must not write code: both models work for some companies.\", metadata={'Header 4': 'Guides / Staff archetypes', 'Header 2': 'Architect'}),\n",
       " Document(page_content='Stories featuring Solver archetype: Bert Fan, Nelson Elhage  \\nThe Solver is a trusted agent of the organization who goes deep into knotty problems, continuing to work on them until they\\'re resolved. Folks in this role are moved onto problems identified by organizational leadership as critical and either lacking a clear approach or with a high degree of execution risk.  \\nWhere most Staff-level roles require a very heavy dose of organizational wrangling, the Solver generally operates on problems that are already identified as organizational priorities and thus are called on to do relatively little org-level chiropractics. On the other hand, they generally stop working on problems once they\\'re contained, which can create the feeling of transience and requires a soft touch to avoid infuriating the teams left behind to maintain the \"solved\" problem.  \\nThe Solver is most common in companies that think of individuals, rather than teams, as the atomic unit of planning and ownership. In such companies, it\\'s common to see the Solver become prevalent in the place of the Tech Lead. You\\'re less likely to encounter this role at traditionally managed sprint-centric companies until those companies become relatively large or long-lived enough to acquire their own varietal of technical debt.', metadata={'Header 4': 'Guides / Staff archetypes', 'Header 2': 'Solver'}),\n",
       " Document(page_content=\"Stories featuring Right Hand archetype: Michelle Bu, Rick Boone  \\nThe Right Hand is the least common of the archetypes, showing up as an organization reaches hundreds of engineers and is akin to operating as a senior organizational leader without direct managerial responsibilities. Rick Boone compared his role to the Hand of the King in Game of Thrones and Leo McGarry from The West Wing, operating with the borrowed authority of a senior leader. However, borrowing authority comes with the obligation of remaining deeply aligned with that leader's approach, beliefs, and values.  \\nFolks in this role attend their leader's staff meetings and work to scale that leader's impact by removing important problems from their plate. Problems addressed at this level are never purely technical and instead involve the intersection of the business, technology, people, culture, and process. Right Hands often dive into a fire, edit the approach, delegate execution to the most appropriate team, and then pop over to the next fire elsewhere in the organization. The joy of these roles is that you only work on essential problems. The tragedy is that you're always on to the next issue by the time those problems are solved.\", metadata={'Header 4': 'Guides / Staff archetypes', 'Header 2': 'Right Hand'}),\n",
       " Document(page_content=\"As you think about which of these archetypes would fit you, start by reflecting on the kinds of work that energize you, and then consider which roles are available within your company.  \\nAll companies develop a need for engineers who can fill the Tech Lead role, which makes it the most accessible archetype to attain your first Staff engineering role. Companies that emphasize individual ownership rather than team ownership often develop the Solver early. On the other hand, companies that operate under strict sprints or agile methodologies tend to develop that role late, if ever. In the recent crops of fast-growing technology companies, the Architect and Right Hand roles have generally emerged as the organizations reached one hundred and one thousand engineers, respectively, and simply don't exist beforehand. Companies with other strains of cultural DNA often develop them earlier, or sometimes never.  \\nSuccess in these roles requires remaining engaged; it's essential to understand what kinds of work energize you. The Tech Lead and Architect tend to work with the same people on the same problems for years, developing a tight sense of team and shared purpose. Some months their focus will be a top company priority, and sometimes they'll be humming along so well that executives forget their team exists.  \\nThe Solver and Right Hand bounce from fire to fire, often having more transactional interactions with the folks they're working with on any given week. They're tightly aligned with executive priorities and are likely to receive recognition for addressing leadership's most pressing problems. On the other hand, while they'll nominally be on a team with other folks, there will generally be little-to-no overlap within their team's areas of focus, and they'll often have a limited sense of community.  \\nFor each archetype, you'll find folks who love it and find it deeply rewarding, along with folks who find the work despair-inspiring. While it's important to aim towards an archetype that fits you well, it's also worth remembering that over your thirty or forty-year career, you'll have long enough to spend some time sampling every archetype.\", metadata={'Header 4': 'Guides / Staff archetypes', 'Header 2': 'Which is right for you?'}),\n",
       " Document(page_content='Read another guide? or Back to the stories?', metadata={'Header 4': 'Guides / Staff archetypes'}),\n",
       " Document(page_content=\"If you've enjoyed reading the stories and guides on staffeng.com, you might also enjoy Staff Engineer: Leadership beyond the management track, which features many of these guides and stories.  \\nWould you like an email when new stories are posted?  \\nEmail\")]"
      ]
     },
     "execution_count": 7,
     "metadata": {},
     "output_type": "execute_result"
    }
   ],
   "source": [
    "text_content"
   ]
  },
  {
   "cell_type": "code",
   "execution_count": 8,
   "id": "e73cf009-e0be-431c-8606-38703c265aa4",
   "metadata": {},
   "outputs": [
    {
     "name": "stdout",
     "output_type": "stream",
     "text": [
      ">>Documents splitted into chunks with success.\n",
      ">>The total words in the content is: 11368\n",
      ">>Number of chunks: 11\n"
     ]
    }
   ],
   "source": [
    "# Split content in chunks\n",
    "chunks, log_msg = split_documents_into_chunks(text_content)\n",
    "utils.log(log_msg)\n",
    "content = \"\\n\".join(str(p.page_content) for p in chunks)\n",
    "utils.log(f\"The total words in the content is: {len(content)}\")\n",
    "utils.log(f\"Number of chunks: {len(chunks)}\")"
   ]
  },
  {
   "cell_type": "code",
   "execution_count": 9,
   "id": "7b90ed37-bcb2-486a-be0b-4343bebce35f",
   "metadata": {},
   "outputs": [
    {
     "name": "stdout",
     "output_type": "stream",
     "text": [
      ">>Succeed defining the embedding model\n"
     ]
    }
   ],
   "source": [
    "# Define the embedding model\n",
    "embedding_model, log_msg = utils.define_embedding_model()\n",
    "utils.log(log_msg)"
   ]
  },
  {
   "cell_type": "code",
   "execution_count": 10,
   "id": "10f93e74-a141-4fc3-8bcc-69703ef6ea52",
   "metadata": {},
   "outputs": [
    {
     "data": {
      "text/plain": [
       "GoogleGenerativeAIEmbeddings(model='models/embedding-001', task_type=None, google_api_key=None, credentials=None, client_options=None, transport=None, request_options=None)"
      ]
     },
     "execution_count": 10,
     "metadata": {},
     "output_type": "execute_result"
    }
   ],
   "source": [
    "embedding_model"
   ]
  },
  {
   "cell_type": "code",
   "execution_count": 11,
   "id": "b27b5e7e-78da-4e22-853a-f19ee099f276",
   "metadata": {
    "scrolled": true
   },
   "outputs": [
    {
     "name": "stdout",
     "output_type": "stream",
     "text": [
      ">>[0.046296075, 0.0021893692, -0.054319877, -0.06536844, 0.09285131, 0.04472874, -0.0103636505, -0.05438948, 0.04175981, 0.040346187, -0.043824583, 0.0018948383, -0.0453746, 0.0050782617, 0.0275365, -0.047758505, 0.043513533, 0.02587017, 0.025363032, 0.007217163, 0.0008121445, 0.011421231, 0.009833772, -0.017286226, -0.008351615, 0.025563138, 0.00030477706, -0.08757319, -0.0043683033, 0.022995565, -0.03643493, 0.024108177, -0.04007227, 0.018155832, -0.012187189, -0.0024978628, -0.0035106845, -0.019405274, 0.006964364, -0.017740227, 1.426568e-07, -0.034173083, -0.020878125, 0.030839747, -0.030028146, -0.016478026, 0.005818408, 0.030674702, 0.016763357, -0.03492426, 0.0146637345, 0.018521432, 0.03675469, -0.025890952, -0.041335844, -0.026006607, 0.032455187, -0.0041033546, -0.025882516, 0.0045067505, -0.018337823, 0.03074409, 0.04531155, 0.016850738, -0.009317834, -0.07491421, -0.03816339, 0.006814972, 0.017045071, 0.038410414, -0.031773664, -0.017145103, 0.05156357, -0.069456615, -0.0029261908, -0.14877193, -0.031177737, 0.032666195, -0.022581687, 0.014213333, 0.007930454, -0.0358416, -0.038440518, -0.029236216, -0.03812202, 0.0032538655, 0.01648947, 0.008116413, 0.0059256474, 0.058908716, -0.038721517, -0.0163657, 0.038429845, -0.05834967, -0.0013047592, 0.09248321, -0.03307312, -0.038983278, 0.031292412, -0.009585262, -0.002765416, -0.024149079, -0.053989977, -0.023067312, 0.052100834, 0.052235793, 0.023861738, 0.048583165, -0.010331872, -0.00470685, -0.08785746, 0.013579724, 0.016557949, -0.02719744, 0.033975326, -0.02555892, -0.010753452, 0.07891555, 0.0263343, 0.019405553, 0.04028539, -0.0009203009, 0.07216402, 0.0005087811, 0.016529493, 0.011880635, 0.019320246, 0.052880384, 0.012493972, 0.014023014, -0.014195228, -0.03978188, -0.0226804, 0.06059232, 0.0407186, 0.028072566, 0.046942297, -0.018014127, -0.011021225, -0.006708065, -0.023163568, 0.017254887, -0.014431522, 0.01913653, -0.010319364, 0.07086609, -0.03996999, 0.030385584, 0.06058382, -0.02241669, -0.021022381, 0.013377557, -0.06386103, -0.016095644, 0.05614502, -0.012535794, 0.0035482675, 0.045133162, 0.0074971328, -0.004689817, 0.05259778, -0.025846427, 0.03475048, 0.038011957, -0.02814007, -0.04252552, -0.015991045, -0.025091687, -0.01671045, 0.0005632563, -0.03725506, 0.0026040222, -0.04994331, -0.016628979, -0.023421397, -0.011136342, -0.007322098, 0.016333256, -0.04173318, 0.0064509455, -0.012190939, -0.057450578, 0.003406116, 0.03515525, 0.009334243, -0.031326972, 0.067437395, -0.036988728, -0.0406018, 0.02303782, -0.027146164, 0.03731553, -0.05444921, -0.045903716, -0.034558248, 0.01538301, 0.04591964, 0.03597218, 0.009056053, -0.0017808089, 0.004472849, 0.060223848, -0.021441542, -0.029907433, -0.0062099397, -0.0057193357, 0.08158724, -0.033531412, -0.084388435, 0.042978495, -0.024506984, 0.014307306, -0.0009233212, 0.0017837167, 0.04689457, -0.011777908, 0.023279399, 0.009773465, 0.01742057, -0.0024750908, -0.017406946, 0.054073874, 0.0032418522, 0.0026966545, -0.011201734, 0.041466173, 0.004856968, 0.012215032, 0.027177403, -0.047134418, -0.004418767, 0.07215197, 0.05270959, -0.003265156, 0.07184587, 0.0073670126, 0.026390005, 0.044880506, 0.0024115322, 0.03888481, -0.048421383, 0.02553255, 0.014829382, 0.051044855, -0.07539243, -0.009150259, -0.0032992316, 0.05683647, -0.02730142, 0.056163047, -0.039614104, -0.07323828, 0.011986015, 0.007814505, -0.075476594, 0.010426029, -0.0013523585, 0.031999797, -0.048122127, 0.004803287, 0.04637696, -0.039296925, -0.019351698, -0.007812708, 0.020757118, -0.0168017, 0.011163754, -0.052783646, -0.0112548275, 0.012140498, 0.0044160234, -0.046612885, 0.029021392, 0.020703632, 0.02693381, 0.016037226, -0.0060199797, 0.05604075, 0.044507008, -0.038268868, 0.017922483, 0.035764158, 0.03130193, -0.05038246, -0.0051848483, 0.015137653, -0.066232845, -0.031713024, 0.02827207, -0.05247679, -0.030683244, -0.010803282, 0.0049923966, -0.058000788, -0.006435854, 0.016002407, 0.0034671626, 0.028832756, -0.00849127, -0.0771086, -0.010179457, -0.09515849, -0.021772943, -0.05938886, 0.010803922, 0.005204594, 0.004847077, -0.06405787, 0.07681629, -0.0016624574, 0.031550135, -0.010406393, -0.018248651, 0.008617567, 0.057729524, 0.037555642, -0.009190383, 0.020811623, -0.004744097, 0.073600076, -0.015474869, 0.0487441, -0.012868317, -0.029001635, 0.020458862, 0.021972248, -0.011501716, -0.0015525926, -0.022044154, 0.034875445, -0.031360622, 0.031004133, -0.03314363, -0.016982257, -0.0297605, 0.033997543, -0.06587524, -0.0008486408, -0.038030595, -0.0037752993, -0.0016076117, 0.016703589, -0.024316711, -0.035914686, 0.015506929, -0.021936702, -0.040927824, 0.011051529, 0.030101137, 0.076347694, 0.021246286, 0.02711235, -0.05993233, 0.030450018, -0.018042214, -0.033326566, 0.036545053, -0.05488614, 0.014990581, -0.0027746148, 0.008486796, 0.016781354, -0.026785847, -0.030522821, 0.00032705296, 0.006106705, -0.0234749, -0.006510275, -0.0080263885, 0.042993076, 0.017246623, -0.0388146, 0.0093436325, -0.0018675455, 0.020586094, -0.0054870076, -0.005701719, -0.031597856, 0.018635469, 0.028472235, -0.016993027, -0.04080091, 0.010111105, 0.038445108, 0.01785704, -0.022237288, 0.044247393, 0.023069216, -0.05091606, 0.03747845, -0.03199023, 0.009446882, 0.04686596, 0.010333456, 0.018956957, -0.029711312, 0.017918492, -0.049671646, 0.034739215, 0.021361994, -0.04817645, -0.044652898, -0.044776246, -0.0036199014, -0.046738245, 0.017883569, 0.01567276, -0.015428999, -0.042049374, -0.017174587, 0.02815212, 0.050115246, 0.0339033, -0.05483304, -0.04115631, -0.01150885, 0.05327027, -0.000907043, -0.0145583255, 0.037657343, -0.046891555, 0.017949305, 0.044071842, 0.026884995, -0.053912386, -0.004662767, 0.038330954, -0.016410772, 0.006675997, 0.010971112, 0.04165845, 0.055237938, -0.0050376253, 0.024291651, 0.023293354, -0.04541766, -0.0090852985, 0.052292116, -0.030750826, -0.015943624, 0.03288476, -0.044900607, 0.022133593, -0.03835463, 0.0027226007, -0.050962824, -0.008511857, -0.015533501, 0.0067837825, -0.11107414, 0.050704055, -0.07052565, -0.04402374, -0.062231027, -0.063004166, -0.037517156, 0.005196533, 0.09025088, -0.023536516, 0.005323001, 0.012789765, -0.03155922, -0.019159093, -0.075090945, 0.0017507183, 0.012719786, 0.008566053, 0.0008445361, 0.035697196, 0.056609433, -0.015451476, -0.012191315, 0.0011937565, -0.02607278, -0.019358296, -0.028632458, -0.07324948, 0.04593203, -0.04451328, -0.020191386, 0.0014196703, -0.0013605774, 0.032430198, 0.045148186, 0.008993437, 0.0027755727, 0.0070059113, 0.01876314, -0.027440954, 0.03949196, 0.06036074, 0.010266211, -0.037746996, -0.04119471, -0.026828228, 0.00213185, -0.044495136, 0.05342655, 0.02654484, 0.025080808, 0.00032379766, 0.0029425353, -0.010107081, -0.035103578, 0.06250789, -0.06412787, 0.018719044, 0.01962911, -0.01316195, -0.0047240667, 0.044182025, -0.010272049, -0.037905496, 0.014239635, 0.057908364, -0.04290444, -0.008319164, -0.0072968532, 0.026569193, -0.003299767, 0.05865182, -0.028748501, -0.10758639, -0.021007175, 0.019267732, -0.05395514, -0.013335088, 0.035087556, -0.040751703, 0.010077585, 0.00052332686, 0.062240988, -0.08862805, -0.012364192, 0.02615697, -0.013414658, 0.04926342, 0.014807125, -0.019991748, -0.012261073, 0.04998013, -0.026306884, 0.04233227, -0.009788946, -0.031330213, 0.019708896, 0.0018915749, -0.0765597, 0.014845304, -0.014842405, -0.03646058, 0.02051765, 0.019282924, -0.020973813, 0.037290853, -0.020755429, -0.015812438, -0.02453111, 0.027351767, -0.0174493, -0.0060516777, 0.011297718, 0.031277027, 0.03218493, 0.10593975, 0.00071982, -0.009206466, -0.009532777, 0.053170074, -0.035323005, -0.021139406, -0.029606305, 0.03489587, 0.0006741488, 0.061396323, -0.03124018, -0.057317603, -0.010707809, -0.035849527, 0.02123199, 0.026397955, -0.03700759, -0.012946537, 0.05898618, -0.06734651, -0.023791688, 0.047986638, 0.053416315, 0.012637017, 0.004539405, -0.037534524, 0.04095323, -0.042578183, 0.0086631095, 0.028746683, -0.00853461, 0.049987677, -0.058160998, -0.05122665, 0.0054155327, 0.017012363, -0.043494403, 0.08444836, -0.043329906, 0.020601923, 0.020485198, 0.0028706053, -0.0003972773, 0.00804808, 0.081461616, 3.584799e-06, -0.016864356, -0.022935817, -0.04052022, -0.008952247, -0.031980883, 0.037558652, 0.039300967, -0.02802433, -0.018932793, -0.016316742, -0.00508288, 0.008974214, 0.0023135892, 0.028839046, -0.0028721977, -0.05464322, -0.042438112, 0.08640843, 0.04177619, 0.070907004, 0.035403226, -0.009862833, -0.0017988497, -0.059860565, 0.0146939615, -0.0099271685, 0.010424761, 0.01622275, -0.0042019184, -0.06689322, -0.013785673, 0.04474598, -0.01964517, 0.011711505, 0.031739794, 0.022156686, -0.09444429, -0.064411506, 0.00034030562, -0.017276613, 0.010709249, 0.030386193, -0.023629088, 0.025163818, 0.058959626, 0.00032446894, -0.051290568, 0.00051612005, -0.047400337, -0.04337279, 0.0070177033, -0.014782087, -0.016865892, 0.023328453, -0.052011326, -0.041467592, -0.10110413, -0.03169942, -0.0058549945, -0.067369156, 0.02875588, 0.06695984, 0.009848203, 0.05513551, 0.028211493, -0.0007326556, 0.020791806, 0.006267264, 0.020121148, 0.022800006, -0.020765461, -0.047528744, 0.03500952, 0.016798029, 0.026302623, 0.010067565, -0.026968041, -0.05596896, -0.0797063, 0.0236735, -0.06854282, -0.007294001, 0.038781606, 0.017201412, 0.027772725, -0.017494688, 0.005659436, 0.032855146, 0.020214511, 0.0032979134, -0.043449424, 0.0013899662, 0.03839394, 0.046706177, 0.0046945238, 0.021557525, 0.021661354, 0.03445908, 0.046547484, 0.018327268, -0.04821537, -0.023718797, 0.036245834, 0.012909355, -0.04594677, -0.024072075, 0.049465634, -0.04149379, 0.1002568, 0.021616768, 0.012540371, -0.020799363, -0.013193587, -0.048459504, 0.074113384, -0.0099684065, -0.020248603, -0.016340932, -0.016710984, 0.045637406, -0.001127471, 0.037712213, 0.020674052, -0.053970512, 0.08712801, 0.04095914, 0.010451351, -0.011474833, -0.034822013, -0.043172464, 0.016392736, 0.024379931, 0.071045496, 0.035995882, -0.044857595, -0.0031554948, -0.026994951, 0.0026895944, -0.06484759, -0.010620292, 0.0123505695, -0.005989794, 0.045261387, 0.008125474, -0.01539802, -0.024342451, 0.008645601, -0.006128614, 0.022362357, -0.043565128, -0.0011447613, 0.013597223, 0.013494069, 0.024761712, 0.01079612, -0.041800816, 0.039299976]\n"
     ]
    }
   ],
   "source": [
    "# Test embeddings\n",
    "query_result = embedding_model.embed_query(chunks[0].page_content)\n",
    "utils.log(query_result)"
   ]
  },
  {
   "cell_type": "code",
   "execution_count": 12,
   "id": "c4b3c542-a3ed-4198-a437-31df746cc812",
   "metadata": {},
   "outputs": [
    {
     "name": "stdout",
     "output_type": "stream",
     "text": [
      ">>Succeed creating pinecone index\n"
     ]
    }
   ],
   "source": [
    "# Create/reset vetorstore index\n",
    "_, log_msg = utils.create_pinecone_index(\n",
    "    pc, general_parameters.par__vector_store_index_name\n",
    ")\n",
    "utils.log(log_msg)"
   ]
  },
  {
   "cell_type": "code",
   "execution_count": 13,
   "id": "9dd758f8-25bd-4ec9-a86c-5343349200cf",
   "metadata": {},
   "outputs": [
    {
     "name": "stdout",
     "output_type": "stream",
     "text": [
      ">>New pinecone index existence checked.\n"
     ]
    }
   ],
   "source": [
    "# Check if the new index exists\n",
    "if utils.check_if_pinecone_index_exists(pc, general_parameters.par__vector_store_index_name):\n",
    "    utils.log(\"New pinecone index existence checked.\")\n",
    "else:\n",
    "    utils.log(\"New pinecone index not found\")"
   ]
  },
  {
   "cell_type": "code",
   "execution_count": 14,
   "id": "6f9404b7-2fae-47a6-a4f1-328942e417b3",
   "metadata": {},
   "outputs": [
    {
     "name": "stdout",
     "output_type": "stream",
     "text": [
      ">>Succeed uploading vectors to vectorstore\n"
     ]
    }
   ],
   "source": [
    "# Upload vectors to vetorstore\n",
    "vectorstore_from_docs, log_msg = utils.upload_vectors_to_vectorstore(\n",
    "    pc, general_parameters.par__vector_store_index_name, chunks, embedding_model\n",
    ")\n",
    "utils.log(log_msg)"
   ]
  },
  {
   "cell_type": "code",
   "execution_count": 15,
   "id": "c6399624-fc16-499e-8a77-00988ca7f98f",
   "metadata": {},
   "outputs": [
    {
     "name": "stdout",
     "output_type": "stream",
     "text": [
      ">>Waiting 5 seconds to have vectorstore available...\n",
      ">>...continuing now.\n",
      ">>New pinecone index existence checked.\n"
     ]
    }
   ],
   "source": [
    "#-- Check if the new index exists\n",
    "# Wait to upload vectors\n",
    "time_to_wait = 5\n",
    "utils.log(f\"Waiting {time_to_wait} seconds to have vectorstore available...\")\n",
    "time.sleep(5)\n",
    "utils.log(\"...continuing now.\")\n",
    "\n",
    "if utils.check_if_pinecone_index_exists(pc, general_parameters.par__vector_store_index_name):\n",
    "    utils.log(\"New pinecone index existence checked.\")\n",
    "else:\n",
    "    utils.log(\"New pinecone index not found\")"
   ]
  },
  {
   "cell_type": "code",
   "execution_count": 16,
   "id": "1ac5a67e-468d-4252-926c-8ab718dcba5b",
   "metadata": {},
   "outputs": [
    {
     "name": "stdout",
     "output_type": "stream",
     "text": [
      "[Document(page_content='Guides / Staff archetypes'), Document(page_content='StoriesGuidesSubscribeBookPodcast', metadata={'Header 2': 'StaffEng'}), Document(page_content='Read another guide? or Back to the stories?', metadata={'Header 4': 'Guides / Staff archetypes'}), Document(page_content='© Will Larson, 2023. About. FAQ. RSS. Edit on GitHub.  \\nStaffEng')]\n"
     ]
    }
   ],
   "source": [
    "# Test retrieval from embeedings\n",
    "query = \"leader\"\n",
    "result = vectorstore_from_docs.similarity_search(query)\n",
    "print(result)"
   ]
  },
  {
   "cell_type": "code",
   "execution_count": 17,
   "id": "ef49a74b-1d0a-410a-8dc6-774c8d3c718b",
   "metadata": {},
   "outputs": [
    {
     "name": "stdout",
     "output_type": "stream",
     "text": [
      ">>Succeed defining the llm model\n"
     ]
    }
   ],
   "source": [
    "# Define LLM model\n",
    "llm_model, log_msg = utils.define_llm_model()\n",
    "utils.log(log_msg)"
   ]
  },
  {
   "cell_type": "code",
   "execution_count": 18,
   "id": "33178114-03af-4538-bca2-ee17572d26da",
   "metadata": {},
   "outputs": [
    {
     "data": {
      "text/plain": [
       "ChatGoogleGenerativeAI(model='gemini-pro', temperature=0.3, client=genai.GenerativeModel(\n",
       "    model_name='models/gemini-pro',\n",
       "    generation_config={},\n",
       "    safety_settings={},\n",
       "    tools=None,\n",
       "    system_instruction=None,\n",
       "))"
      ]
     },
     "execution_count": 18,
     "metadata": {},
     "output_type": "execute_result"
    }
   ],
   "source": [
    "llm_model"
   ]
  },
  {
   "cell_type": "code",
   "execution_count": 19,
   "id": "369f24aa-8078-455e-ae31-af011d4f855b",
   "metadata": {},
   "outputs": [
    {
     "name": "stdout",
     "output_type": "stream",
     "text": [
      ">>Succeed preparing prompt\n"
     ]
    }
   ],
   "source": [
    "# Prepare prompt\n",
    "prompt, log_msg = utils.prepare_prompt()\n",
    "utils.log(log_msg)"
   ]
  },
  {
   "cell_type": "code",
   "execution_count": 20,
   "id": "3a855625-af6f-4e66-bcc5-361386835c88",
   "metadata": {},
   "outputs": [
    {
     "data": {
      "text/plain": [
       "PromptTemplate(input_variables=['context', 'input'], template='Answer the question as precise as possible using the provided context. If the answer is\\n                    not contained in the context, say \"Answer not available in context\" \\n\\n\\n                    Context: \\n {context}?\\n\\n                    Question: \\n {input} \\n\\n                    Answer:\\n                  ')"
      ]
     },
     "execution_count": 20,
     "metadata": {},
     "output_type": "execute_result"
    }
   ],
   "source": [
    "prompt"
   ]
  },
  {
   "cell_type": "code",
   "execution_count": 21,
   "id": "c1bc4e44-f21a-445a-89f4-8ba6e0717253",
   "metadata": {},
   "outputs": [
    {
     "name": "stdout",
     "output_type": "stream",
     "text": [
      ">>Succeed building chain\n"
     ]
    }
   ],
   "source": [
    "# Build chain\n",
    "chain, log_msg = utils.build_chain(vectorstore_from_docs, llm_model, prompt)\n",
    "utils.log(log_msg)"
   ]
  },
  {
   "cell_type": "code",
   "execution_count": 22,
   "id": "77c6c56e-13b4-47d1-92d2-94c226498b72",
   "metadata": {},
   "outputs": [
    {
     "data": {
      "text/plain": [
       "RunnableBinding(bound=RunnableAssign(mapper={\n",
       "  context: RunnableBinding(bound=RunnableLambda(lambda x: x['input'])\n",
       "           | VectorStoreRetriever(tags=['PineconeVectorStore', 'GoogleGenerativeAIEmbeddings'], vectorstore=<langchain_pinecone.vectorstores.PineconeVectorStore object at 0x7fb23a785dd0>), config={'run_name': 'retrieve_documents'})\n",
       "})\n",
       "| RunnableAssign(mapper={\n",
       "    answer: RunnableBinding(bound=RunnableBinding(bound=RunnableAssign(mapper={\n",
       "              context: RunnableLambda(format_docs)\n",
       "            }), config={'run_name': 'format_inputs'})\n",
       "            | PromptTemplate(input_variables=['context', 'input'], template='Answer the question as precise as possible using the provided context. If the answer is\\n                    not contained in the context, say \"Answer not available in context\" \\n\\n\\n                    Context: \\n {context}?\\n\\n                    Question: \\n {input} \\n\\n                    Answer:\\n                  ')\n",
       "            | ChatGoogleGenerativeAI(model='gemini-pro', temperature=0.3, client=genai.GenerativeModel(\n",
       "                  model_name='models/gemini-pro',\n",
       "                  generation_config={},\n",
       "                  safety_settings={},\n",
       "                  tools=None,\n",
       "                  system_instruction=None,\n",
       "              ))\n",
       "            | StrOutputParser(), config={'run_name': 'stuff_documents_chain'})\n",
       "  }), config={'run_name': 'retrieval_chain'})"
      ]
     },
     "execution_count": 22,
     "metadata": {},
     "output_type": "execute_result"
    }
   ],
   "source": [
    "chain"
   ]
  },
  {
   "cell_type": "code",
   "execution_count": 1,
   "id": "66fc5b83-a452-49eb-b595-dab37316eb4a",
   "metadata": {},
   "outputs": [
    {
     "ename": "NameError",
     "evalue": "name 'utils' is not defined",
     "output_type": "error",
     "traceback": [
      "\u001b[0;31m---------------------------------------------------------------------------\u001b[0m",
      "\u001b[0;31mNameError\u001b[0m                                 Traceback (most recent call last)",
      "Cell \u001b[0;32mIn[1], line 12\u001b[0m\n\u001b[1;32m      3\u001b[0m question_input \u001b[38;5;241m=\u001b[39m \u001b[38;5;124m\"\u001b[39m\u001b[38;5;124mWhat is the Solver?\u001b[39m\u001b[38;5;124m\"\u001b[39m\n\u001b[1;32m      4\u001b[0m \u001b[38;5;66;03m# question_input = \"Who are the most common Staff archetype?\"\u001b[39;00m\n\u001b[1;32m      5\u001b[0m \u001b[38;5;66;03m# question_input = \"Some companies push for Architects to what?\"\u001b[39;00m\n\u001b[1;32m      6\u001b[0m \u001b[38;5;66;03m# question_input = \"What is the tech lead role?\"\u001b[39;00m\n\u001b[1;32m      7\u001b[0m \u001b[38;5;66;03m# question_input = \"What is the architect role?\"\u001b[39;00m\n\u001b[1;32m      8\u001b[0m \u001b[38;5;66;03m# question_input = \"What tech leads do?\"\u001b[39;00m\n\u001b[1;32m      9\u001b[0m \u001b[38;5;66;03m# question_input = \"Comapnies emphasizes how many types of leaders?\"\u001b[39;00m\n\u001b[0;32m---> 12\u001b[0m answer, log_msg \u001b[38;5;241m=\u001b[39m \u001b[43mutils\u001b[49m\u001b[38;5;241m.\u001b[39masking_question_about_content(chain, question_input)\n\u001b[1;32m     13\u001b[0m utils\u001b[38;5;241m.\u001b[39mlog(log_msg)\n\u001b[1;32m     14\u001b[0m utils\u001b[38;5;241m.\u001b[39mlog(\u001b[38;5;124mf\u001b[39m\u001b[38;5;124m\"\u001b[39m\u001b[38;5;124mQ: \u001b[39m\u001b[38;5;132;01m{\u001b[39;00mquestion_input\u001b[38;5;132;01m}\u001b[39;00m\u001b[38;5;124m\"\u001b[39m)\n",
      "\u001b[0;31mNameError\u001b[0m: name 'utils' is not defined"
     ]
    }
   ],
   "source": [
    "# Ask question about the content\n",
    "# question_input = \"What the Right Hand does?\"\n",
    "question_input = \"What is the Solver?\"\n",
    "# question_input = \"Who are the most common Staff archetype?\"\n",
    "# question_input = \"Some companies push for Architects to what?\"\n",
    "# question_input = \"What is the tech lead role?\"\n",
    "# question_input = \"What is the architect role?\"\n",
    "# question_input = \"What tech leads do?\"\n",
    "# question_input = \"Comapnies emphasizes how many types of leaders?\"\n",
    "\n",
    "\n",
    "answer, log_msg = utils.asking_question_about_content(chain, question_input)\n",
    "utils.log(log_msg)\n",
    "utils.log(f\"Q: {question_input}\")\n",
    "utils.log(\"A: \" + answer[\"answer\"])\n",
    "print(answer)"
   ]
  },
  {
   "cell_type": "code",
   "execution_count": null,
   "id": "294a8e00-fa6d-43d5-b297-e7a8a822952f",
   "metadata": {},
   "outputs": [],
   "source": []
  },
  {
   "cell_type": "code",
   "execution_count": null,
   "id": "92420b88-0f61-4adf-8c0d-9774fa4106a4",
   "metadata": {},
   "outputs": [],
   "source": []
  },
  {
   "cell_type": "markdown",
   "id": "61d74b4a-8398-4800-88e3-ca91b87ce145",
   "metadata": {
    "jp-MarkdownHeadingCollapsed": true
   },
   "source": [
    "# Old from notebook"
   ]
  },
  {
   "cell_type": "code",
   "execution_count": 11,
   "id": "012f3065-e8bf-46b9-8bb8-d22bb3d9a134",
   "metadata": {},
   "outputs": [],
   "source": [
    "# Splitting up texts into document chunks\n",
    "\n",
    "text_splitter = RecursiveCharacterTextSplitter(\n",
    "    chunk_size = 100,\n",
    "    chunk_overlap  = 0,\n",
    ")\n",
    "\n",
    "texts = text_splitter.create_documents([web_content])"
   ]
  },
  {
   "cell_type": "code",
   "execution_count": 12,
   "id": "792e54ca-10fb-4ff3-865b-b8c6c60c385e",
   "metadata": {},
   "outputs": [
    {
     "data": {
      "text/plain": [
       "'more folks I spoke with about the role of Staff-plus engineers at their company, the better their'"
      ]
     },
     "execution_count": 12,
     "metadata": {},
     "output_type": "execute_result"
    }
   ],
   "source": [
    "texts[5].page_content"
   ]
  },
  {
   "cell_type": "code",
   "execution_count": 13,
   "id": "0d877498-8160-45cd-87b9-b1d4981ce163",
   "metadata": {},
   "outputs": [],
   "source": [
    "embeddings = GoogleGenerativeAIEmbeddings(model=\"models/embedding-001\")"
   ]
  },
  {
   "cell_type": "code",
   "execution_count": 14,
   "id": "acd9c04e-8937-444b-a393-b5b149d8a193",
   "metadata": {},
   "outputs": [
    {
     "data": {
      "text/plain": [
       "GoogleGenerativeAIEmbeddings(model='models/embedding-001', task_type=None, google_api_key=None, credentials=None, client_options=None, transport=None)"
      ]
     },
     "execution_count": 14,
     "metadata": {},
     "output_type": "execute_result"
    }
   ],
   "source": [
    "embeddings"
   ]
  },
  {
   "cell_type": "code",
   "execution_count": 15,
   "id": "f8b863ba-acf6-4656-8131-e50ad369ea4f",
   "metadata": {
    "scrolled": true
   },
   "outputs": [
    {
     "name": "stdout",
     "output_type": "stream",
     "text": [
      "[0.035539147, -0.01588701, -0.06093401, -0.015345827, 0.1072455, 0.014320397, 0.025980622, -0.04679444, -0.012692532, 0.056683604, 0.017088482, 0.0051324475, -0.02929702, -0.021885335, 0.034071058, -0.036216956, 0.025899606, 0.016804613, 0.026180929, -0.04528106, 0.0051276134, 0.012434314, -0.010382666, -0.014647196, -0.0013674786, 0.017662885, 0.010031028, -0.10148269, 0.01627072, 0.00023776965, 0.00034131936, 0.03730884, -0.04809122, 0.03871471, -0.0105177425, -0.011410749, 0.002259466, 0.00045816464, 0.031052614, 0.014604505, -0.008548708, -0.023186574, -0.026097285, 0.036120065, 0.015469395, -0.01155849, -0.03284381, 0.027361726, 0.034855004, -0.051733617, -0.041125998, 0.013262407, 0.052076414, 0.038358655, 0.0024653557, -0.05900416, 0.010282796, -0.033221077, -0.04492166, 0.044686366, -0.010023318, -0.026107341, 0.021396985, -0.008892472, -0.03043539, -0.10978758, -0.067691214, 0.0034165697, 0.046052445, 0.023852246, -0.0110889375, -0.030911056, 0.0627278, -0.021165559, 0.010550592, -0.11785041, -0.021039579, 0.01896713, -0.013154813, 0.003751727, -0.02040519, -0.05143844, -0.042119656, -0.033179957, -0.03484022, 0.015392375, -0.018592093, -0.011253194, 0.01856399, 0.06588443, -0.02551816, -0.037992127, 0.019832596, -0.0148793, -0.0021730377, 0.072636954, -0.06782706, -0.050308622, 0.014063975, -0.012425492, 0.0040349946, -0.032450005, -0.07757586, 0.034007743, 0.02705812, 0.015565484, 0.025029562, 0.043917622, -0.013785091, 0.016830444, -0.038404495, 0.009832016, 0.026060926, -0.014351414, 0.06605327, -0.013509827, 0.007039106, 0.06637921, 0.025830159, 0.020597897, 0.0444741, -0.008770869, 0.05931428, -0.017500436, -0.011019992, -0.03302517, 0.01436304, 0.029209198, 0.028900975, 0.04034455, 0.025454905, -0.05756331, -0.006346582, 0.03281272, 0.026819056, 0.087435596, 0.076069035, -0.04841151, 0.015764304, -0.01324703, 0.006165244, 0.003426397, -0.010832333, 0.024429573, -0.04391694, 0.08607024, -0.06491644, 0.00884638, 0.08246458, -0.019148642, -0.025420457, 0.06267364, -0.06619959, -0.03130337, 0.053573195, 0.007976583, -0.0025054682, -0.0062216716, 0.015051164, -0.0025157512, 0.054625858, -0.006688416, 0.011185399, 0.04046954, 0.0041840193, -0.023611281, 0.0048690927, -0.030882686, -0.014221361, -0.015345678, -0.041685183, 0.006055273, -0.07289224, -0.0059522176, -0.003234432, -0.04194947, -0.014307218, 0.0006544674, -0.044673607, 0.00019203206, -0.028432079, -0.036525935, 0.014138607, 0.034932204, 0.017033117, -0.021337673, 0.04723286, -0.023277128, -0.01218982, -0.0028019943, 0.020289008, -0.014778019, -0.034597993, -0.027237274, -0.039594784, 0.027092656, 0.052285537, 0.0057231965, 0.042809196, -0.03406298, -0.021819094, 0.06724806, 0.019424003, -0.03559278, 0.013328405, -0.01734571, 0.078769356, -0.036984514, -0.06186224, 0.04843078, -0.036816426, 0.019686406, -0.023881795, 0.013899705, 0.07999114, -0.012002437, 0.016029619, 0.011410644, 0.01948057, -0.012468242, 0.0016549651, 0.0014879705, -0.03863351, 0.059720222, -0.008098322, 0.04984485, -0.0030934245, 0.007743373, 0.022010079, -0.038250174, 0.018149395, 0.07720251, 0.05321487, -0.03810872, 0.058743134, 0.042699978, 0.02450363, 0.059780315, 0.032344528, 0.0042347396, -0.035776768, 0.013613339, 0.031828992, 0.0644377, -0.038965866, -0.006668322, -0.028523803, 0.036045793, 0.0009320211, 0.07251241, -0.007279222, -0.041150723, -0.02448899, -0.03830525, -0.07166103, 0.041395143, -0.017219752, 0.05102565, -0.07404004, 0.015126959, 0.049632676, -0.015452322, 0.018595196, -0.0050725285, 0.0029845494, -0.060063053, -0.020872379, -0.03422824, 0.009831763, 0.04390372, 0.0032419818, -0.069120765, 0.021266138, 0.017788688, 0.03837657, 0.014471733, 0.008440211, 0.044017006, 0.044864643, -0.061006673, -0.0006791906, 0.04328459, 0.05104478, -0.007564129, -0.019399373, -0.012282783, -0.04813552, -0.018144026, -0.0360378, -0.04882857, -0.0028472806, -0.027749525, 0.00040110789, -0.06328931, -0.047900937, -0.017859226, -0.03466011, 0.02695284, 0.009246942, -0.044344228, -0.0072226254, -0.067075096, 0.016966522, -0.11531142, -0.02063901, -0.009931047, -0.0012974096, -0.05027285, 0.049632315, -0.015317524, 0.043043856, -0.0066416445, -0.018988857, -0.012950205, 0.025939818, 0.051080197, -0.0074646077, 0.01516388, -0.03530351, 0.06871268, -0.033132926, 0.06740209, -0.009787291, -0.010732887, 0.0006792308, 0.037282817, -0.029463511, -0.0034626513, 0.014356748, 0.026988555, -0.05110283, -0.0072185234, 0.002474411, 0.00837285, -0.011675525, 0.0063945283, -0.11858162, 0.0015849626, -0.047255978, -0.0027683051, 0.03541256, 0.0132265715, 0.0060197385, -0.029554997, -0.011689411, 0.0032546618, -0.055291243, 0.0059694936, 0.07276925, 0.05785882, 0.010660381, 0.044144846, -0.019514581, -0.01694297, -0.0003487519, -0.011102614, 0.0331757, -0.020974023, 0.045843616, 0.012419963, 0.025003212, 0.00892407, -0.015627874, -8.981775e-05, -0.018978002, -0.025819575, -0.028096324, 0.0042255092, 0.026816174, 0.078876935, 0.035248246, 0.0089076, 0.005203427, -0.034386028, -0.011504668, -0.027154664, -0.057930026, -0.04211655, 0.0034590466, 0.043896653, 0.005353904, 0.00746628, 0.016034242, 0.034098815, -0.0020642898, -0.03202689, 0.036213264, 0.049823638, -0.06607865, 0.05506531, -0.05529345, 0.02301852, 0.10244275, 0.03398817, 0.002265202, -0.019527752, 0.035232604, -0.021182017, -0.002861777, 0.006881619, -0.038620394, -0.08773535, -0.03157322, -0.020331644, -0.0321716, 0.02968903, 0.007609219, -0.0010593918, -0.0316423, -0.007935854, -0.015528024, 0.027426438, -0.023068354, -0.066898786, -0.031011714, -0.023126869, 0.022141824, -0.040185373, -0.029947715, 0.045659624, 0.01647635, -0.01276584, 0.033253238, 0.023281466, -0.089255214, -0.034373913, 0.0023380297, 0.011212643, 0.038125325, -0.010450738, -0.008355506, -0.019233068, -0.010241766, -0.0026846314, 0.014344587, -0.048676804, -0.018656433, 0.052112732, -0.0067639328, 0.0046087815, 0.05448599, -0.018481739, 0.040250525, -0.019390779, -0.0021745942, -0.020875739, -0.013790565, -0.011526275, 0.003010468, -0.12402885, 0.06728065, -0.070640944, -0.052484088, -0.042300176, -0.064561464, -0.018838694, 0.011646155, 0.030698055, -0.0023997885, 0.023306305, 0.015271269, -0.033435743, -0.044139586, -0.05153364, 0.028824363, -0.0069038123, 0.0133200735, -0.009097168, -0.0070270156, 0.021259416, 0.014279367, -0.0029304188, 0.010986295, -0.01730207, -0.003858306, -0.030497763, -0.062332034, 0.04904354, -0.038287666, -0.005101855, 0.015897198, -0.013240401, 0.020981852, 0.03818339, -0.018700333, 0.01833541, 0.04038248, 0.005802759, -0.0039820466, 0.0309335, 0.051613152, 0.024951562, 0.0077913012, -0.06441098, -0.03160712, 0.016060065, -0.022793677, 0.038208626, 0.043303262, 0.002759626, -0.0131512, -0.021990841, -0.02255854, -0.027712228, 0.08114053, -0.032242402, 0.013687133, 0.010675516, 0.008423368, -0.010581083, 0.026869254, 0.032055106, -0.03416136, -0.027903225, 0.031465694, -0.0319387, -0.02686695, 0.042935062, 0.017097995, -0.008640281, 0.065152586, 0.009738491, -0.10608256, -0.023657717, 0.005854589, -0.04466011, -0.012382715, 0.026001481, -0.028363295, 0.02027517, 0.016382072, 0.06363237, -0.033889595, -0.025694232, -0.009099082, -0.033071194, 0.011270761, -0.0109440945, 0.017432272, -0.02565084, 0.015045577, -0.022359604, 0.031105235, 0.0017384941, -0.03791905, 0.0029072375, 0.027432391, -0.083799936, -0.008471275, 0.0016647044, -0.0145121375, 0.018151429, 0.034968115, -0.022924965, 0.029985778, -0.048985276, -0.02142095, 0.009349553, 0.03361797, -0.026573937, -0.037231777, 0.029287918, 0.0063677086, 0.041035984, 0.05348406, 0.05406019, -0.017039606, -0.036064364, 0.04613006, -0.015215136, -0.008374443, 0.014136513, -0.010928631, 0.0060681636, 0.04264111, -0.02472699, -0.014259159, 0.00054161594, -0.0039609578, 0.012276806, 0.03070417, -0.014371625, -0.003785356, 0.046165038, -0.038715977, -0.008039491, 0.050675172, 0.041446198, 0.019894727, 0.00646684, -0.06939047, 0.015394706, -0.0037704217, -0.033057343, -0.005547669, 0.042428646, 0.0042806217, -0.028297696, -0.06938696, -0.02028392, 0.02747693, -0.053582184, -0.005576147, -0.042553876, -0.0012475401, 0.001280675, -0.012118389, 0.021048747, 0.029605867, 0.050273355, 0.008618834, -0.020536494, -0.024056137, -0.02748656, -0.01062013, -0.023183923, 0.07382905, 0.0011105534, -0.009992996, -0.022446295, 0.04335609, -0.027773675, -0.0072816415, 0.02834192, 0.036440544, 0.005193083, -0.03913836, -0.04696786, 0.06952663, 0.02406036, 0.07961847, 0.07436604, 0.026164044, -0.008362805, -0.022049977, 0.03836504, -0.03582395, 0.021537302, 0.046691388, -0.0012039191, -0.052673478, 0.0020994819, 0.022296125, -0.0010335562, 0.021187525, 0.08479121, 0.003704334, -0.0842384, -0.07047561, -0.0061909724, -0.050051, 0.007036148, 0.02418002, -0.004033373, 0.01584883, 0.03316547, -0.021826848, -0.060366794, 0.018546134, -0.012158672, -0.03618236, -0.019557921, -0.026758563, 0.03005767, 0.040494516, -0.021079967, -0.04789224, -0.085921444, -0.016547676, 0.04339063, -0.057182163, 0.041664958, 0.050358318, -0.025117896, 0.030790867, -0.009004715, -0.016743178, 0.032182995, 0.008398155, 0.015270085, 0.024686797, -0.009034074, -0.023698812, 0.02010811, -0.008901674, 0.02323789, 0.009047271, 0.00865292, -0.054572836, -0.053085662, 0.008360567, -0.084152624, 0.0036314798, 0.021387216, 0.04005902, 0.014105982, -0.009288122, -0.022774551, 0.023761341, 0.06328995, 0.007851389, -0.06045235, 0.0012156612, 0.0040836628, 0.013387239, -0.0033705647, -0.008406725, -0.015838785, 0.03363986, 0.0448374, 0.04103736, -0.06242437, -0.0033109398, 0.04688094, -0.02260547, 0.010645045, 0.010548244, 0.018499674, -0.040610813, 0.07143234, 0.036791198, 0.021634266, -0.02325461, -0.038814098, -0.04207623, 0.07811147, -0.04738446, 0.027616149, -0.018540319, -0.026207227, 0.035781115, -0.008805549, -0.0019053982, 0.041000117, -0.007943895, 0.12412556, 0.034210164, 0.052945863, 0.018050762, -0.043406136, -0.037841875, 0.031341404, -0.011291454, 0.08512141, 0.029754918, -0.018351393, -0.008012773, -0.008538014, -0.02261571, -0.054790907, -0.031226281, 0.010144846, 0.014206974, 0.029591147, 0.014078134, -0.039052445, -0.01595643, 0.0041423165, -0.0052992455, 0.025229868, -0.026584618, 0.0039383885, -0.00563611, 0.0018422202, 0.008653974, 0.03557608, 0.00018848591, 0.026748516]\n"
     ]
    }
   ],
   "source": [
    "# Test embeddings\n",
    "query_result = embeddings.embed_query(texts[0].page_content)\n",
    "print(query_result)\n",
    "     "
   ]
  },
  {
   "cell_type": "code",
   "execution_count": 16,
   "id": "57ead302-0c11-4fc6-b78b-c5810635dae4",
   "metadata": {},
   "outputs": [
    {
     "data": {
      "text/plain": [
       "'c85549f9-4542-4667-be10-008737851d5d'"
      ]
     },
     "execution_count": 16,
     "metadata": {},
     "output_type": "execute_result"
    }
   ],
   "source": [
    "os.getenv('PINECONE_API_KEY')"
   ]
  },
  {
   "cell_type": "code",
   "execution_count": 17,
   "id": "e1232b3b-97cb-4715-ae12-8fed8bbd0481",
   "metadata": {},
   "outputs": [],
   "source": [
    "pc = Pinecone(api_key=str(os.getenv('PINECONE_API_KEY')).strip(\"\\\"\"))"
   ]
  },
  {
   "cell_type": "code",
   "execution_count": 20,
   "id": "ed0db555-ea2d-458d-b187-22a03c85e27b",
   "metadata": {},
   "outputs": [],
   "source": [
    "pc.create_index(\n",
    "    name=\"llm-101-poc\",\n",
    "    dimension=768, # Replace with your model dimensions\n",
    "    metric=\"euclidean\", # Replace with your model metric\n",
    "    spec=ServerlessSpec(\n",
    "        cloud=\"aws\",\n",
    "        region=\"us-east-1\"\n",
    "    ) \n",
    ")"
   ]
  },
  {
   "cell_type": "code",
   "execution_count": 21,
   "id": "108fe7b8-1fd8-48c4-b8c3-1b0604c19dc8",
   "metadata": {},
   "outputs": [],
   "source": [
    "# vectorstore = PineconeVectorStore(index_name=index_name, embedding=embeddings)"
   ]
  },
  {
   "cell_type": "code",
   "execution_count": 22,
   "id": "a26c4bf7-0dc4-4960-821e-c6db973f56fa",
   "metadata": {
    "scrolled": true
   },
   "outputs": [],
   "source": [
    "# Upload vectors to Pinecone\n",
    "index_name = \"llm-101-poc\"\n",
    "# search = Pinecone.from_documents(texts, embeddings, index_name=index_name)\n",
    "\n",
    "vectorstore_from_docs = PineconeVectorStore.from_documents(\n",
    "        texts,\n",
    "        index_name=index_name,\n",
    "        embedding=embeddings\n",
    "    )"
   ]
  },
  {
   "cell_type": "code",
   "execution_count": 23,
   "id": "799288df-12c3-404f-a142-ed1fb4da24a4",
   "metadata": {},
   "outputs": [
    {
     "name": "stdout",
     "output_type": "stream",
     "text": [
      "[]\n"
     ]
    }
   ],
   "source": [
    "# Do a simple vector similarity search\n",
    "\n",
    "query = \"cv\"\n",
    "result = vectorstore_from_docs.similarity_search(query)\n",
    "\n",
    "print(result)"
   ]
  },
  {
   "cell_type": "markdown",
   "id": "96ede0cc-8df4-470f-ab38-866bbe08917f",
   "metadata": {},
   "source": [
    "## LLM"
   ]
  },
  {
   "cell_type": "code",
   "execution_count": 24,
   "id": "76c3457f-b8a2-4c65-b58c-03f074314562",
   "metadata": {},
   "outputs": [],
   "source": [
    "genai.configure(api_key=os.environ.get(\"GOOGLE_API_KEY\"))"
   ]
  },
  {
   "cell_type": "code",
   "execution_count": 25,
   "id": "aa0f5b68-2a7a-4d1e-9647-f359a933c30d",
   "metadata": {
    "scrolled": true
   },
   "outputs": [],
   "source": [
    "model = ChatGoogleGenerativeAI(model=\"gemini-pro\",\n",
    "                             temperature=0.3)"
   ]
  },
  {
   "cell_type": "code",
   "execution_count": 26,
   "id": "cf63e04f-1420-4291-824d-5d1a309c3d7b",
   "metadata": {
    "scrolled": true
   },
   "outputs": [
    {
     "data": {
      "text/plain": [
       "ChatGoogleGenerativeAI(model='gemini-pro', temperature=0.3, client=genai.GenerativeModel(\n",
       "    model_name='models/gemini-pro',\n",
       "    generation_config={},\n",
       "    safety_settings={},\n",
       "    tools=None,\n",
       "    system_instruction=None,\n",
       "))"
      ]
     },
     "execution_count": 26,
     "metadata": {},
     "output_type": "execute_result"
    }
   ],
   "source": [
    "model"
   ]
  },
  {
   "cell_type": "code",
   "execution_count": 27,
   "id": "9d7abe27-0bf6-4d59-a53e-ce1358d4df71",
   "metadata": {},
   "outputs": [
    {
     "name": "stdout",
     "output_type": "stream",
     "text": [
      "The total words in the context:  11346\n"
     ]
    }
   ],
   "source": [
    "context = \"\\n\".join(str(p.page_content) for p in texts)\n",
    "print(\"The total words in the context: \", len(context))"
   ]
  },
  {
   "cell_type": "code",
   "execution_count": 28,
   "id": "f96f4e48-8058-4122-8e5a-b238b23482d1",
   "metadata": {},
   "outputs": [],
   "source": [
    "prompt_template = \"\"\"Answer the question as precise as possible using the provided context. If the answer is\n",
    "                    not contained in the context, say \"answer not available in context\" \\n\\n\n",
    "                    Context: \\n {context}?\\n\n",
    "                    Question: \\n {question} \\n\n",
    "                    Answer:\n",
    "                  \"\"\"\n",
    "\n",
    "prompt = PromptTemplate(\n",
    "    template=prompt_template, input_variables=[\"context\", \"question\"]\n",
    ")"
   ]
  },
  {
   "cell_type": "code",
   "execution_count": 29,
   "id": "4a5c3a8a-40aa-436c-802c-6ec2893205e6",
   "metadata": {},
   "outputs": [],
   "source": [
    "stuff_chain = load_qa_chain(model, chain_type=\"stuff\", prompt=prompt)\n"
   ]
  },
  {
   "cell_type": "code",
   "execution_count": 40,
   "id": "39735858-daa7-4864-9691-42c39fab7926",
   "metadata": {
    "scrolled": true
   },
   "outputs": [],
   "source": [
    "# question = \"What is the types of leader? Provide a detailed answer.\"\n",
    "question = \"What does a solver leader do?\"\n",
    "\n",
    "\n",
    "stuff_answer = stuff_chain(\n",
    "    {\"input_documents\": texts, \"question\": question}, return_only_outputs=True\n",
    ")"
   ]
  },
  {
   "cell_type": "code",
   "execution_count": 41,
   "id": "a1b5b6a8-a2e1-45fe-85b6-23afc3b237db",
   "metadata": {},
   "outputs": [
    {
     "data": {
      "text/markdown": [
       "> Solvers are trusted agents of the organization who go deep into knotty problems, continuing to work on them until they're resolved."
      ],
      "text/plain": [
       "<IPython.core.display.Markdown object>"
      ]
     },
     "execution_count": 41,
     "metadata": {},
     "output_type": "execute_result"
    }
   ],
   "source": [
    "to_markdown(stuff_answer[\"output_text\"])"
   ]
  },
  {
   "cell_type": "markdown",
   "id": "3fcc112b-4d5d-4368-95d8-c0ad5e97606f",
   "metadata": {},
   "source": [
    "---\n",
    "# End."
   ]
  },
  {
   "cell_type": "code",
   "execution_count": null,
   "id": "098ceea2-cdc9-4c1a-8942-b7fa61feca15",
   "metadata": {},
   "outputs": [],
   "source": []
  }
 ],
 "metadata": {
  "kernelspec": {
   "display_name": "Python 3 (ipykernel)",
   "language": "python",
   "name": "python3"
  },
  "language_info": {
   "codemirror_mode": {
    "name": "ipython",
    "version": 3
   },
   "file_extension": ".py",
   "mimetype": "text/x-python",
   "name": "python",
   "nbconvert_exporter": "python",
   "pygments_lexer": "ipython3",
   "version": "3.11.9"
  }
 },
 "nbformat": 4,
 "nbformat_minor": 5
}
