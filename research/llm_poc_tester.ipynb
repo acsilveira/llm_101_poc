{
 "cells": [
  {
   "cell_type": "markdown",
   "id": "36ac8823-8c38-4581-bbc8-2004e0385389",
   "metadata": {},
   "source": [
    "# LLM 101 PoC, Tester\n",
    "\n",
    "Goal: Test implementations interatively."
   ]
  },
  {
   "cell_type": "markdown",
   "id": "a9d2e70a-ffbc-4fc4-92ec-37ad165a574a",
   "metadata": {},
   "source": [
    "# Library"
   ]
  },
  {
   "cell_type": "code",
   "execution_count": 1,
   "id": "daef7212-7d44-4be7-818e-6543fe757473",
   "metadata": {},
   "outputs": [],
   "source": [
    "import sys  \n",
    "sys.path.insert(1, '/home/jovyan/workspace/src')"
   ]
  },
  {
   "cell_type": "code",
   "execution_count": 2,
   "id": "205fe26c-383c-4881-a845-1c839614399f",
   "metadata": {},
   "outputs": [
    {
     "data": {
      "text/plain": [
       "<module 'controller' from '/home/jovyan/workspace/src/controller.py'>"
      ]
     },
     "execution_count": 2,
     "metadata": {},
     "output_type": "execute_result"
    }
   ],
   "source": [
    "import utils\n",
    "import controller\n",
    "import importlib\n",
    "importlib.reload(utils)\n",
    "importlib.reload(controller)"
   ]
  },
  {
   "cell_type": "code",
   "execution_count": 3,
   "id": "1d99b942-3d7b-435a-8518-d290079e9489",
   "metadata": {},
   "outputs": [
    {
     "name": "stderr",
     "output_type": "stream",
     "text": [
      "2024-06-07 20:45:02,299 - root - INFO - Utils initialized\n"
     ]
    }
   ],
   "source": [
    "tool_utils = utils.UtilsLLM()"
   ]
  },
  {
   "cell_type": "code",
   "execution_count": 4,
   "id": "b2c1e001-60b4-414f-850f-4bb60b3f2e02",
   "metadata": {},
   "outputs": [
    {
     "name": "stderr",
     "output_type": "stream",
     "text": [
      "2024-06-07 20:45:02,582 - root - INFO - Utils initialized\n",
      "2024-06-07 20:45:02,688 - root - INFO - Controller initialized\n"
     ]
    }
   ],
   "source": [
    "tool_controller = controller.Controller('https://staffeng.com/guides/staff-archetypes/', 'what is the solver role?')"
   ]
  },
  {
   "cell_type": "markdown",
   "id": "ed661d6c-9f7b-48f5-a5ac-da8c272658ee",
   "metadata": {},
   "source": [
    "# Test"
   ]
  },
  {
   "cell_type": "code",
   "execution_count": 5,
   "id": "956607c6-436a-44cb-9778-82cb2898e132",
   "metadata": {},
   "outputs": [
    {
     "name": "stderr",
     "output_type": "stream",
     "text": [
      "2024-06-07 20:45:02,796 - root - INFO - Env vars loaded: False\n",
      "2024-06-07 20:45:02,820 - root - INFO - GOOGLE_API_KEY len: 39\n",
      "2024-06-07 20:45:02,869 - root - INFO - PINECONE_API_KEY len: 36\n",
      "2024-06-07 20:45:02,878 - root - INFO - OPENAI_API_KEY len: 56\n",
      "2024-06-07 20:45:02,885 - root - INFO - Succeed authenticating.\n"
     ]
    },
    {
     "data": {
      "text/plain": [
       "(True, 'Succeed authenticating.')"
      ]
     },
     "execution_count": 5,
     "metadata": {},
     "output_type": "execute_result"
    }
   ],
   "source": [
    "# Auth\n",
    "tool_controller.authenticate()"
   ]
  },
  {
   "cell_type": "code",
   "execution_count": 6,
   "id": "23e37b6b-cc60-4510-8b0b-d76c6022b1bf",
   "metadata": {
    "scrolled": true
   },
   "outputs": [
    {
     "name": "stderr",
     "output_type": "stream",
     "text": [
      "2024-06-07 20:45:02,950 - root - INFO - Succeed defining the embedding model\n",
      "2024-06-07 20:45:03,227 - root - DEBUG - Embedding model defined: model='models/embedding-001' task_type=None google_api_key=None credentials=None client_options=None transport=None request_options=None\n"
     ]
    },
    {
     "data": {
      "text/plain": [
       "(GoogleGenerativeAIEmbeddings(model='models/embedding-001', task_type=None, google_api_key=None, credentials=None, client_options=None, transport=None, request_options=None),\n",
       " 'Succeed defining the embedding model')"
      ]
     },
     "execution_count": 6,
     "metadata": {},
     "output_type": "execute_result"
    }
   ],
   "source": [
    "# Define embedding\n",
    "tool_controller.define_embedding_model()"
   ]
  },
  {
   "cell_type": "code",
   "execution_count": 7,
   "id": "3a8435e8-bb59-45cc-b32c-1e5b784dbaf7",
   "metadata": {},
   "outputs": [
    {
     "name": "stderr",
     "output_type": "stream",
     "text": [
      "2024-06-07 20:45:03,255 - root - DEBUG - Checking URL https://staffeng.com/guides/staff-archetypes/ hashed to 2aa286980436145bc4d29577d69b9c69\n",
      "2024-06-07 20:45:03,261 - root - DEBUG - Looking for 2aa286980436145bc4d29577d69b9c69\n",
      "2024-06-07 20:45:03,634 - root - DEBUG - ... in ['2aa286980436145bc4d29577d69b9c69']\n",
      "2024-06-07 20:45:04,456 - root - INFO - Specific index name exists in Pinecone\n",
      "2024-06-07 20:45:04,464 - root - INFO - Does a vector store index already exist for this URL: True\n"
     ]
    },
    {
     "data": {
      "text/plain": [
       "True"
      ]
     },
     "execution_count": 7,
     "metadata": {},
     "output_type": "execute_result"
    }
   ],
   "source": [
    "# --- Prepare content\n",
    "# Check existence of Pineocone index\n",
    "tool_controller.check_if_vector_store_index_already_exists_for_this_url('https://staffeng.com/guides/staff-archetypes/')"
   ]
  },
  {
   "cell_type": "code",
   "execution_count": 8,
   "id": "90dc7494-32dc-47bd-8967-e862ea1d9d29",
   "metadata": {},
   "outputs": [
    {
     "name": "stdout",
     "output_type": "stream",
     "text": [
      "https://staffeng.com/guides/staff-archetypes/\n"
     ]
    }
   ],
   "source": [
    "# Check url value\n",
    "print(tool_controller.content_ref)"
   ]
  },
  {
   "cell_type": "code",
   "execution_count": 9,
   "id": "0f3eaef0-34cc-44db-b055-13e7d7a6024d",
   "metadata": {},
   "outputs": [
    {
     "name": "stderr",
     "output_type": "stream",
     "text": [
      "2024-06-07 20:45:07,444 - root - INFO - Succeed setting Pinecone client to a specific index\n"
     ]
    }
   ],
   "source": [
    "# Prepare vector store client\n",
    "tool_controller.vector_store_loaded_client = tool_utils.set_vector_store_client_to_specific_index(tool_controller.content_ref, tool_controller.embedding_model)"
   ]
  },
  {
   "cell_type": "code",
   "execution_count": 10,
   "id": "95da779d-a10e-4c61-8a4f-273b84f5d92b",
   "metadata": {},
   "outputs": [
    {
     "name": "stdout",
     "output_type": "stream",
     "text": [
      "<langchain_pinecone.vectorstores.PineconeVectorStore object at 0x7f8694133050>\n"
     ]
    }
   ],
   "source": [
    "# Check client loaded vector store\n",
    "print(tool_controller.vector_store_loaded_client)"
   ]
  },
  {
   "cell_type": "code",
   "execution_count": 11,
   "id": "7d19e522-987e-4ba3-8a55-9ee6789c4f92",
   "metadata": {},
   "outputs": [
    {
     "data": {
      "text/plain": [
       "False"
      ]
     },
     "execution_count": 11,
     "metadata": {},
     "output_type": "execute_result"
    }
   ],
   "source": [
    "# --- Prepare LLM chain\n",
    "# Check if chain is ready\n",
    "tool_controller.chain_is_prepared"
   ]
  },
  {
   "cell_type": "code",
   "execution_count": 12,
   "id": "0618d1d1-33eb-4f36-8267-2647057bce86",
   "metadata": {},
   "outputs": [],
   "source": [
    "# Define model choice\n",
    "tool_controller.model_choice = \"Gemini\""
   ]
  },
  {
   "cell_type": "code",
   "execution_count": 13,
   "id": "3e1b3d70-f74f-4aca-8910-87dd5ec7d2a2",
   "metadata": {
    "scrolled": true
   },
   "outputs": [
    {
     "name": "stderr",
     "output_type": "stream",
     "text": [
      "2024-06-07 20:45:07,600 - root - INFO - LLM model defined as Gemini\n",
      "2024-06-07 20:45:07,621 - root - INFO - Succeed defining the llm model\n",
      "2024-06-07 20:45:07,631 - root - INFO - Succeed preparing prompt\n",
      "2024-06-07 20:45:07,644 - root - INFO - Succeed building chain with documents retrieval\n"
     ]
    }
   ],
   "source": [
    "# Prepare chain\n",
    "tool_controller.prepare_llm_chain(\"retrieved_documents\", tool_controller.vector_store_loaded_client)"
   ]
  },
  {
   "cell_type": "code",
   "execution_count": 14,
   "id": "af5ab004-d263-48f1-89cc-8c1e6983a428",
   "metadata": {},
   "outputs": [],
   "source": [
    "# --- Ask question about the content\n",
    "tool_controller.question = 'what is the solver role?'"
   ]
  },
  {
   "cell_type": "code",
   "execution_count": 15,
   "id": "aa5b14e9-e8ef-4087-8e3e-807805af14f6",
   "metadata": {},
   "outputs": [
    {
     "name": "stderr",
     "output_type": "stream",
     "text": [
      "2024-06-07 20:45:07,725 - root - INFO - LLM model defined as Gemini\n",
      "2024-06-07 20:45:07,750 - root - INFO - Succeed defining the llm model\n",
      "2024-06-07 20:45:07,759 - root - INFO - Succeed preparing prompt\n",
      "2024-06-07 20:45:07,779 - root - INFO - Succeed building chain with documents retrieval\n",
      "2024-06-07 20:45:07,787 - root - INFO - Succeed resetting chain for model: Gemini.\n",
      "2024-06-07 20:45:12,928 - root - INFO - Succeed asking question about content using a retrieved documents chain\n",
      "2024-06-07 20:45:12,932 - root - INFO - Question asked to Gemini\n",
      "2024-06-07 20:45:12,942 - root - INFO - Q: what is the solver role?\n",
      "2024-06-07 20:45:12,957 - root - INFO - A: The Solver digs deep into arbitrarily complex problems and finds an appropriate path forward. Some focus on a given area for long periods. Others bounce from hotspot to hotspot as guided by organizational leadership.\n"
     ]
    },
    {
     "data": {
      "text/plain": [
       "(True,\n",
       " {'input': 'what is the solver role?',\n",
       "  'context': [Document(page_content=\"The Solver is most common in companies that think of individuals, rather than teams, as the atomic unit of planning and ownership.\\nIn such companies, it's common to see the Solver become prevalent in the place of the Tech Lead.\\nYou're less likely to encounter this role at traditionally managed sprint-centric companies until those companies become\\nrelatively large or long-lived enough to acquire their own varietal of technical debt.\\nRight Hand\"),\n",
       "   Document(page_content=\"Influential architects dedicate their energy to maintaining an intimate understanding of the business' needs, their users' goals, and the relevant technical constraints.\\nThey use that insight to identify and advocate for effective approaches within their area of focus,\\nand do it with organizational authority that they've earned by demonstrating consistently good judgment.\\nThe Architect role tends to evolve in relatively large companies,\\ncompanies with exceptionally complex or coupled codebases, and\\ncompanies that are struggling to repay the technical debt they created in their initial sprint to product-market fit.\\nSome companies push for Architects to remain deep in the codebase, and others set a clear expectation that Architects must not write code: both models work for some companies.\\nSolver\"),\n",
       "   Document(page_content=\"Some months their focus will be a top company priority, and sometimes they'll be humming along so well that executives forget their team exists.\\nThe Solver and Right Hand bounce from fire to fire, often having more transactional interactions with the folks they're working with on any given week. They're tightly aligned with executive priorities and are likely to receive recognition for addressing leadership's most pressing problems. On the other hand, while they'll nominally be on a team with other folks, there will generally be little-to-no overlap within their team's areas of focus, and they'll often have a limited sense of community.\"),\n",
       "   Document(page_content='The Tech Lead guides the approach and execution of a particular team. They partner closely with a single manager, but sometimes they partner with two or three managers within a focused area. Some companies also have a  Tech Lead Manager role, which is similar to the Tech Lead archetype but exists on the engineering manager ladder and includes people management responsibilities.\\nThe Architect is responsible for the direction, quality, and approach within a critical area. They combine in-depth knowledge of technical constraints, user needs, and organization level leadership.\\nThe Solver digs deep into arbitrarily complex problems and finds an appropriate path forward. Some focus on a given area for long periods. Others bounce from hotspot to hotspot as guided by organizational leadership.')],\n",
       "  'answer': 'The Solver digs deep into arbitrarily complex problems and finds an appropriate path forward. Some focus on a given area for long periods. Others bounce from hotspot to hotspot as guided by organizational leadership.'})"
      ]
     },
     "execution_count": 15,
     "metadata": {},
     "output_type": "execute_result"
    }
   ],
   "source": [
    "# Ask to LLM\n",
    "tool_controller.ask_question_to_llm_using_vector_store(tool_controller.model_choice, \"URL\")"
   ]
  },
  {
   "cell_type": "markdown",
   "id": "6826b602-2950-4087-887b-963817523ad3",
   "metadata": {},
   "source": [
    "---\n",
    "# End."
   ]
  }
 ],
 "metadata": {
  "kernelspec": {
   "display_name": "Python 3 (ipykernel)",
   "language": "python",
   "name": "python3"
  },
  "language_info": {
   "codemirror_mode": {
    "name": "ipython",
    "version": 3
   },
   "file_extension": ".py",
   "mimetype": "text/x-python",
   "name": "python",
   "nbconvert_exporter": "python",
   "pygments_lexer": "ipython3",
   "version": "3.11.9"
  }
 },
 "nbformat": 4,
 "nbformat_minor": 5
}
